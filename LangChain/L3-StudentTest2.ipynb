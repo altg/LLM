{
 "cells": [
  {
   "cell_type": "markdown",
   "metadata": {},
   "source": [
    "# Student Test Question Generator V2\n",
    "\n",
    "Using OpenAI Functions"
   ]
  },
  {
   "cell_type": "code",
   "execution_count": 51,
   "metadata": {},
   "outputs": [],
   "source": [
    "from langchain.chat_models import ChatOpenAI\n",
    "from langchain.prompts import ChatPromptTemplate\n",
    "from operator import itemgetter\n"
   ]
  },
  {
   "cell_type": "code",
   "execution_count": 45,
   "metadata": {},
   "outputs": [],
   "source": [
    "functions = [\n",
    "    {\n",
    "      \"name\": \"multiplechoice_questions\",\n",
    "      \"description\": \"Generate multiple choice questions\",\n",
    "      \"parameters\": {\n",
    "        \"type\": \"object\",\n",
    "        \"properties\": {\n",
    "          \"questions\": { \"title\" : \"questions\" , \"type\" : \"array\",\n",
    "            \"items\": {\n",
    "                    \"question\" :{\"title\" : \"question\" , \"description\" : \"question asked\", \"type\" : \"string\"},\n",
    "                    \"mcqs\" :{\"title\" : \"mcqs\" , \"description\" : \"multiple choice answers\", \"type\" : \"array\",\n",
    "                                \"items\" : { \"mcq\" : { \"type\" : \"string\"} } },\n",
    "                    \"answer\" : { \"title\" : \"correct_ans\" , \"description\" : \"answer to question\" , \"type\" : \"string\"}\n",
    "            }\n",
    "          }         \n",
    "        },\n",
    "        \"required\": [\"questions\"]\n",
    "      }\n",
    "    }\n",
    "  ]"
   ]
  },
  {
   "cell_type": "code",
   "execution_count": 59,
   "metadata": {},
   "outputs": [],
   "source": [
    "from langchain.output_parsers.openai_functions import JsonKeyOutputFunctionsParser\n",
    "chain = (\n",
    "    {\"subject\" : itemgetter(\"subject\"),\n",
    "     \"difficulty\" : itemgetter(\"difficulty\"),\n",
    "     \"number\" : itemgetter(\"num\")}\n",
    "    | ChatPromptTemplate.from_template(\"Generate a list of {number} level:{difficulty} multiple choice questions and answers on the {subject}\")\n",
    "    | ChatOpenAI(max_retries=0, model=\"gpt-4\")\n",
    "    | JsonKeyOutputFunctionsParser(key_name=\"questions\")\n",
    ")\n",
    "\n",
    "#.bind(functions=functions, function_call={\"name\": \"multiplechoice_questions\"})"
   ]
  },
  {
   "cell_type": "code",
   "execution_count": 60,
   "metadata": {},
   "outputs": [
    {
     "ename": "OutputParserException",
     "evalue": "Could not parse function call: 'function_call'",
     "output_type": "error",
     "traceback": [
      "\u001b[0;31m---------------------------------------------------------------------------\u001b[0m",
      "\u001b[0;31mKeyError\u001b[0m                                  Traceback (most recent call last)",
      "File \u001b[0;32m~/Library/Python/3.9/lib/python/site-packages/langchain/output_parsers/openai_functions.py:29\u001b[0m, in \u001b[0;36mOutputFunctionsParser.parse_result\u001b[0;34m(self, result)\u001b[0m\n\u001b[1;32m     28\u001b[0m \u001b[39mtry\u001b[39;00m:\n\u001b[0;32m---> 29\u001b[0m     func_call \u001b[39m=\u001b[39m copy\u001b[39m.\u001b[39mdeepcopy(message\u001b[39m.\u001b[39;49madditional_kwargs[\u001b[39m\"\u001b[39;49m\u001b[39mfunction_call\u001b[39;49m\u001b[39m\"\u001b[39;49m])\n\u001b[1;32m     30\u001b[0m \u001b[39mexcept\u001b[39;00m \u001b[39mKeyError\u001b[39;00m \u001b[39mas\u001b[39;00m exc:\n",
      "\u001b[0;31mKeyError\u001b[0m: 'function_call'",
      "\nDuring handling of the above exception, another exception occurred:\n",
      "\u001b[0;31mOutputParserException\u001b[0m                     Traceback (most recent call last)",
      "\u001b[1;32m/Users/altaf/Projects/LLM/LangChain/L3-StudentTest2.ipynb Cell 5\u001b[0m in \u001b[0;36m1\n\u001b[0;32m----> <a href='vscode-notebook-cell:/Users/altaf/Projects/LLM/LangChain/L3-StudentTest2.ipynb#W4sZmlsZQ%3D%3D?line=0'>1</a>\u001b[0m res \u001b[39m=\u001b[39m chain\u001b[39m.\u001b[39;49minvoke({\u001b[39m\"\u001b[39;49m\u001b[39msubject\u001b[39;49m\u001b[39m\"\u001b[39;49m : \u001b[39m\"\u001b[39;49m\u001b[39mscience\u001b[39;49m\u001b[39m\"\u001b[39;49m , \u001b[39m\"\u001b[39;49m\u001b[39mdifficulty\u001b[39;49m\u001b[39m\"\u001b[39;49m : \u001b[39m\"\u001b[39;49m\u001b[39multra-hard\u001b[39;49m\u001b[39m\"\u001b[39;49m , \u001b[39m\"\u001b[39;49m\u001b[39mnum\u001b[39;49m\u001b[39m\"\u001b[39;49m : \u001b[39m5\u001b[39;49m})\n",
      "File \u001b[0;32m~/Library/Python/3.9/lib/python/site-packages/langchain/schema/runnable/base.py:763\u001b[0m, in \u001b[0;36mRunnableSequence.invoke\u001b[0;34m(self, input, config)\u001b[0m\n\u001b[1;32m    761\u001b[0m \u001b[39mtry\u001b[39;00m:\n\u001b[1;32m    762\u001b[0m     \u001b[39mfor\u001b[39;00m step \u001b[39min\u001b[39;00m \u001b[39mself\u001b[39m\u001b[39m.\u001b[39msteps:\n\u001b[0;32m--> 763\u001b[0m         \u001b[39minput\u001b[39m \u001b[39m=\u001b[39m step\u001b[39m.\u001b[39;49minvoke(\n\u001b[1;32m    764\u001b[0m             \u001b[39minput\u001b[39;49m,\n\u001b[1;32m    765\u001b[0m             \u001b[39m# mark each step as a child run\u001b[39;49;00m\n\u001b[1;32m    766\u001b[0m             patch_config(config, run_manager\u001b[39m.\u001b[39;49mget_child()),\n\u001b[1;32m    767\u001b[0m         )\n\u001b[1;32m    768\u001b[0m \u001b[39m# finish the root run\u001b[39;00m\n\u001b[1;32m    769\u001b[0m \u001b[39mexcept\u001b[39;00m (\u001b[39mKeyboardInterrupt\u001b[39;00m, \u001b[39mException\u001b[39;00m) \u001b[39mas\u001b[39;00m e:\n",
      "File \u001b[0;32m~/Library/Python/3.9/lib/python/site-packages/langchain/schema/output_parser.py:65\u001b[0m, in \u001b[0;36mBaseGenerationOutputParser.invoke\u001b[0;34m(self, input, config)\u001b[0m\n\u001b[1;32m     61\u001b[0m \u001b[39mdef\u001b[39;00m \u001b[39minvoke\u001b[39m(\n\u001b[1;32m     62\u001b[0m     \u001b[39mself\u001b[39m, \u001b[39minput\u001b[39m: Union[\u001b[39mstr\u001b[39m, BaseMessage], config: Optional[RunnableConfig] \u001b[39m=\u001b[39m \u001b[39mNone\u001b[39;00m\n\u001b[1;32m     63\u001b[0m ) \u001b[39m-\u001b[39m\u001b[39m>\u001b[39m T:\n\u001b[1;32m     64\u001b[0m     \u001b[39mif\u001b[39;00m \u001b[39misinstance\u001b[39m(\u001b[39minput\u001b[39m, BaseMessage):\n\u001b[0;32m---> 65\u001b[0m         \u001b[39mreturn\u001b[39;00m \u001b[39mself\u001b[39;49m\u001b[39m.\u001b[39;49m_call_with_config(\n\u001b[1;32m     66\u001b[0m             \u001b[39mlambda\u001b[39;49;00m inner_input: \u001b[39mself\u001b[39;49m\u001b[39m.\u001b[39;49mparse_result(\n\u001b[1;32m     67\u001b[0m                 [ChatGeneration(message\u001b[39m=\u001b[39;49minner_input)]\n\u001b[1;32m     68\u001b[0m             ),\n\u001b[1;32m     69\u001b[0m             \u001b[39minput\u001b[39;49m,\n\u001b[1;32m     70\u001b[0m             config,\n\u001b[1;32m     71\u001b[0m             run_type\u001b[39m=\u001b[39;49m\u001b[39m\"\u001b[39;49m\u001b[39mparser\u001b[39;49m\u001b[39m\"\u001b[39;49m,\n\u001b[1;32m     72\u001b[0m         )\n\u001b[1;32m     73\u001b[0m     \u001b[39melse\u001b[39;00m:\n\u001b[1;32m     74\u001b[0m         \u001b[39mreturn\u001b[39;00m \u001b[39mself\u001b[39m\u001b[39m.\u001b[39m_call_with_config(\n\u001b[1;32m     75\u001b[0m             \u001b[39mlambda\u001b[39;00m inner_input: \u001b[39mself\u001b[39m\u001b[39m.\u001b[39mparse_result([Generation(text\u001b[39m=\u001b[39minner_input)]),\n\u001b[1;32m     76\u001b[0m             \u001b[39minput\u001b[39m,\n\u001b[1;32m     77\u001b[0m             config,\n\u001b[1;32m     78\u001b[0m             run_type\u001b[39m=\u001b[39m\u001b[39m\"\u001b[39m\u001b[39mparser\u001b[39m\u001b[39m\"\u001b[39m,\n\u001b[1;32m     79\u001b[0m         )\n",
      "File \u001b[0;32m~/Library/Python/3.9/lib/python/site-packages/langchain/schema/runnable/base.py:242\u001b[0m, in \u001b[0;36mRunnable._call_with_config\u001b[0;34m(self, func, input, config, run_type)\u001b[0m\n\u001b[1;32m    236\u001b[0m run_manager \u001b[39m=\u001b[39m callback_manager\u001b[39m.\u001b[39mon_chain_start(\n\u001b[1;32m    237\u001b[0m     dumpd(\u001b[39mself\u001b[39m),\n\u001b[1;32m    238\u001b[0m     \u001b[39minput\u001b[39m \u001b[39mif\u001b[39;00m \u001b[39misinstance\u001b[39m(\u001b[39minput\u001b[39m, \u001b[39mdict\u001b[39m) \u001b[39melse\u001b[39;00m {\u001b[39m\"\u001b[39m\u001b[39minput\u001b[39m\u001b[39m\"\u001b[39m: \u001b[39minput\u001b[39m},\n\u001b[1;32m    239\u001b[0m     run_type\u001b[39m=\u001b[39mrun_type,\n\u001b[1;32m    240\u001b[0m )\n\u001b[1;32m    241\u001b[0m \u001b[39mtry\u001b[39;00m:\n\u001b[0;32m--> 242\u001b[0m     output \u001b[39m=\u001b[39m func(\u001b[39minput\u001b[39;49m)\n\u001b[1;32m    243\u001b[0m \u001b[39mexcept\u001b[39;00m \u001b[39mException\u001b[39;00m \u001b[39mas\u001b[39;00m e:\n\u001b[1;32m    244\u001b[0m     run_manager\u001b[39m.\u001b[39mon_chain_error(e)\n",
      "File \u001b[0;32m~/Library/Python/3.9/lib/python/site-packages/langchain/schema/output_parser.py:66\u001b[0m, in \u001b[0;36mBaseGenerationOutputParser.invoke.<locals>.<lambda>\u001b[0;34m(inner_input)\u001b[0m\n\u001b[1;32m     61\u001b[0m \u001b[39mdef\u001b[39;00m \u001b[39minvoke\u001b[39m(\n\u001b[1;32m     62\u001b[0m     \u001b[39mself\u001b[39m, \u001b[39minput\u001b[39m: Union[\u001b[39mstr\u001b[39m, BaseMessage], config: Optional[RunnableConfig] \u001b[39m=\u001b[39m \u001b[39mNone\u001b[39;00m\n\u001b[1;32m     63\u001b[0m ) \u001b[39m-\u001b[39m\u001b[39m>\u001b[39m T:\n\u001b[1;32m     64\u001b[0m     \u001b[39mif\u001b[39;00m \u001b[39misinstance\u001b[39m(\u001b[39minput\u001b[39m, BaseMessage):\n\u001b[1;32m     65\u001b[0m         \u001b[39mreturn\u001b[39;00m \u001b[39mself\u001b[39m\u001b[39m.\u001b[39m_call_with_config(\n\u001b[0;32m---> 66\u001b[0m             \u001b[39mlambda\u001b[39;00m inner_input: \u001b[39mself\u001b[39;49m\u001b[39m.\u001b[39;49mparse_result(\n\u001b[1;32m     67\u001b[0m                 [ChatGeneration(message\u001b[39m=\u001b[39;49minner_input)]\n\u001b[1;32m     68\u001b[0m             ),\n\u001b[1;32m     69\u001b[0m             \u001b[39minput\u001b[39m,\n\u001b[1;32m     70\u001b[0m             config,\n\u001b[1;32m     71\u001b[0m             run_type\u001b[39m=\u001b[39m\u001b[39m\"\u001b[39m\u001b[39mparser\u001b[39m\u001b[39m\"\u001b[39m,\n\u001b[1;32m     72\u001b[0m         )\n\u001b[1;32m     73\u001b[0m     \u001b[39melse\u001b[39;00m:\n\u001b[1;32m     74\u001b[0m         \u001b[39mreturn\u001b[39;00m \u001b[39mself\u001b[39m\u001b[39m.\u001b[39m_call_with_config(\n\u001b[1;32m     75\u001b[0m             \u001b[39mlambda\u001b[39;00m inner_input: \u001b[39mself\u001b[39m\u001b[39m.\u001b[39mparse_result([Generation(text\u001b[39m=\u001b[39minner_input)]),\n\u001b[1;32m     76\u001b[0m             \u001b[39minput\u001b[39m,\n\u001b[1;32m     77\u001b[0m             config,\n\u001b[1;32m     78\u001b[0m             run_type\u001b[39m=\u001b[39m\u001b[39m\"\u001b[39m\u001b[39mparser\u001b[39m\u001b[39m\"\u001b[39m,\n\u001b[1;32m     79\u001b[0m         )\n",
      "File \u001b[0;32m~/Library/Python/3.9/lib/python/site-packages/langchain/output_parsers/openai_functions.py:61\u001b[0m, in \u001b[0;36mJsonKeyOutputFunctionsParser.parse_result\u001b[0;34m(self, result)\u001b[0m\n\u001b[1;32m     60\u001b[0m \u001b[39mdef\u001b[39;00m \u001b[39mparse_result\u001b[39m(\u001b[39mself\u001b[39m, result: List[Generation]) \u001b[39m-\u001b[39m\u001b[39m>\u001b[39m Any:\n\u001b[0;32m---> 61\u001b[0m     res \u001b[39m=\u001b[39m \u001b[39msuper\u001b[39;49m()\u001b[39m.\u001b[39;49mparse_result(result)\n\u001b[1;32m     62\u001b[0m     \u001b[39mreturn\u001b[39;00m res[\u001b[39mself\u001b[39m\u001b[39m.\u001b[39mkey_name]\n",
      "File \u001b[0;32m~/Library/Python/3.9/lib/python/site-packages/langchain/output_parsers/openai_functions.py:42\u001b[0m, in \u001b[0;36mJsonOutputFunctionsParser.parse_result\u001b[0;34m(self, result)\u001b[0m\n\u001b[1;32m     41\u001b[0m \u001b[39mdef\u001b[39;00m \u001b[39mparse_result\u001b[39m(\u001b[39mself\u001b[39m, result: List[Generation]) \u001b[39m-\u001b[39m\u001b[39m>\u001b[39m Any:\n\u001b[0;32m---> 42\u001b[0m     function_call_info \u001b[39m=\u001b[39m \u001b[39msuper\u001b[39;49m()\u001b[39m.\u001b[39;49mparse_result(result)\n\u001b[1;32m     43\u001b[0m     \u001b[39mif\u001b[39;00m \u001b[39mself\u001b[39m\u001b[39m.\u001b[39margs_only:\n\u001b[1;32m     44\u001b[0m         \u001b[39mtry\u001b[39;00m:\n",
      "File \u001b[0;32m~/Library/Python/3.9/lib/python/site-packages/langchain/output_parsers/openai_functions.py:31\u001b[0m, in \u001b[0;36mOutputFunctionsParser.parse_result\u001b[0;34m(self, result)\u001b[0m\n\u001b[1;32m     29\u001b[0m     func_call \u001b[39m=\u001b[39m copy\u001b[39m.\u001b[39mdeepcopy(message\u001b[39m.\u001b[39madditional_kwargs[\u001b[39m\"\u001b[39m\u001b[39mfunction_call\u001b[39m\u001b[39m\"\u001b[39m])\n\u001b[1;32m     30\u001b[0m \u001b[39mexcept\u001b[39;00m \u001b[39mKeyError\u001b[39;00m \u001b[39mas\u001b[39;00m exc:\n\u001b[0;32m---> 31\u001b[0m     \u001b[39mraise\u001b[39;00m OutputParserException(\u001b[39mf\u001b[39m\u001b[39m\"\u001b[39m\u001b[39mCould not parse function call: \u001b[39m\u001b[39m{\u001b[39;00mexc\u001b[39m}\u001b[39;00m\u001b[39m\"\u001b[39m)\n\u001b[1;32m     33\u001b[0m \u001b[39mif\u001b[39;00m \u001b[39mself\u001b[39m\u001b[39m.\u001b[39margs_only:\n\u001b[1;32m     34\u001b[0m     \u001b[39mreturn\u001b[39;00m func_call[\u001b[39m\"\u001b[39m\u001b[39marguments\u001b[39m\u001b[39m\"\u001b[39m]\n",
      "\u001b[0;31mOutputParserException\u001b[0m: Could not parse function call: 'function_call'"
     ]
    }
   ],
   "source": [
    "res = chain.invoke({\"subject\" : \"science\" , \"difficulty\" : \"ultra-hard\" , \"num\" : 5})"
   ]
  },
  {
   "cell_type": "code",
   "execution_count": 58,
   "metadata": {},
   "outputs": [
    {
     "data": {
      "text/plain": [
       "[{'level': 'ultra-hard',\n",
       "  'category': 'science',\n",
       "  'question': 'What is the name of the process by which plants convert light energy into chemical energy?',\n",
       "  'options': ['Photolysis',\n",
       "   'Photosynthesis',\n",
       "   'Phosphorylation',\n",
       "   'Chemiosmosis'],\n",
       "  'answer': 'Photosynthesis'},\n",
       " {'level': 'ultra-hard',\n",
       "  'category': 'science',\n",
       "  'question': 'Which of the following is not a fundamental force of nature?',\n",
       "  'options': ['Gravity', 'Electromagnetic', 'Nuclear', 'Magnetic'],\n",
       "  'answer': 'Magnetic'},\n",
       " {'level': 'ultra-hard',\n",
       "  'category': 'science',\n",
       "  'question': 'A mole of a substance consists of how many particles?',\n",
       "  'options': ['3.14 x 10^23', '6.02 x 10^23', '1.00 x 10^23', '2.71 x 10^23'],\n",
       "  'answer': '6.02 x 10^23'},\n",
       " {'level': 'ultra-hard',\n",
       "  'category': 'science',\n",
       "  'question': \"What is the rarest naturally occurring element on Earth's surface?\",\n",
       "  'options': ['Astatine', 'Francium', 'Technetium', 'Promethium'],\n",
       "  'answer': 'Astatine'},\n",
       " {'level': 'ultra-hard',\n",
       "  'category': 'science',\n",
       "  'question': 'Which of the following is the correct sequence of events in the scientific method?',\n",
       "  'options': ['Hypothesis, Observation, Experiment, Conclusion',\n",
       "   'Observation, Hypothesis, Experiment, Conclusion',\n",
       "   'Experiment, Hypothesis, Observation, Conclusion',\n",
       "   'Conclusion, Experiment, Hypothesis, Observation'],\n",
       "  'answer': 'Observation, Hypothesis, Experiment, Conclusion'}]"
      ]
     },
     "execution_count": 58,
     "metadata": {},
     "output_type": "execute_result"
    }
   ],
   "source": [
    "res"
   ]
  }
 ],
 "metadata": {
  "kernelspec": {
   "display_name": "Python 3",
   "language": "python",
   "name": "python3"
  },
  "language_info": {
   "codemirror_mode": {
    "name": "ipython",
    "version": 3
   },
   "file_extension": ".py",
   "mimetype": "text/x-python",
   "name": "python",
   "nbconvert_exporter": "python",
   "pygments_lexer": "ipython3",
   "version": "3.9.6"
  },
  "orig_nbformat": 4
 },
 "nbformat": 4,
 "nbformat_minor": 2
}

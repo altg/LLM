{
 "cells": [
  {
   "cell_type": "code",
   "execution_count": 1,
   "metadata": {},
   "outputs": [
    {
     "name": "stderr",
     "output_type": "stream",
     "text": [
      "/Users/altaf/Library/Python/3.9/lib/python/site-packages/urllib3/__init__.py:34: NotOpenSSLWarning: urllib3 v2.0 only supports OpenSSL 1.1.1+, currently the 'ssl' module is compiled with 'LibreSSL 2.8.3'. See: https://github.com/urllib3/urllib3/issues/3020\n",
      "  warnings.warn(\n"
     ]
    }
   ],
   "source": [
    "from langchain.llms import LlamaCpp\n",
    "from langchain import PromptTemplate, LLMChain\n",
    "from langchain.callbacks.manager import CallbackManager\n",
    "from langchain.callbacks.streaming_stdout import StreamingStdOutCallbackHandler"
   ]
  },
  {
   "cell_type": "code",
   "execution_count": 3,
   "metadata": {},
   "outputs": [],
   "source": [
    "# Callbacks support token-wise streaming\n",
    "\n",
    "callback_manager = CallbackManager([StreamingStdOutCallbackHandler()])\n",
    "\n",
    "# Verbose is required to pass to the callback manager"
   ]
  },
  {
   "cell_type": "code",
   "execution_count": 4,
   "metadata": {},
   "outputs": [
    {
     "name": "stderr",
     "output_type": "stream",
     "text": [
      "llama.cpp: loading model from /Users/altaf/Projects/LLM/Llama/llama-models/llama-2-7b-chat.ggmlv3.q4_0.bin\n",
      "llama_model_load_internal: format     = ggjt v3 (latest)\n",
      "llama_model_load_internal: n_vocab    = 32000\n",
      "llama_model_load_internal: n_ctx      = 512\n",
      "llama_model_load_internal: n_embd     = 4096\n",
      "llama_model_load_internal: n_mult     = 256\n",
      "llama_model_load_internal: n_head     = 32\n",
      "llama_model_load_internal: n_layer    = 32\n",
      "llama_model_load_internal: n_rot      = 128\n",
      "llama_model_load_internal: freq_base  = 10000.0\n",
      "llama_model_load_internal: freq_scale = 1\n",
      "llama_model_load_internal: ftype      = 2 (mostly Q4_0)\n",
      "llama_model_load_internal: n_ff       = 11008\n",
      "llama_model_load_internal: model size = 7B\n",
      "llama_model_load_internal: ggml ctx size =    0.08 MB\n",
      "llama_model_load_internal: mem required  = 5185.72 MB (+ 1026.00 MB per state)\n",
      "llama_new_context_with_model: kv self size  =  256.00 MB\n",
      "AVX = 1 | AVX2 = 1 | AVX512 = 0 | AVX512_VBMI = 0 | AVX512_VNNI = 0 | FMA = 1 | NEON = 0 | ARM_FMA = 0 | F16C = 1 | FP16_VA = 0 | WASM_SIMD = 0 | BLAS = 1 | SSE3 = 1 | VSX = 0 | \n"
     ]
    }
   ],
   "source": [
    "# Make sure the model path is correct for your system!\n",
    "llm = LlamaCpp(\n",
    "    model_path=\"/Users/altaf/Projects/LLM/Llama/llama-models/llama-2-7b-chat.ggmlv3.q4_0.bin\",\n",
    "    input={\"temperature\": 0.0, \"max_length\": 2000, \"top_p\": 1},\n",
    "    callback_manager=callback_manager,\n",
    "    verbose=True,\n",
    ")"
   ]
  },
  {
   "cell_type": "code",
   "execution_count": 5,
   "metadata": {},
   "outputs": [
    {
     "name": "stdout",
     "output_type": "stream",
     "text": [
      " hopefully, this will help you understand a little better.\n",
      "the solar system consists of eight planets: Mercury, Venus, Earth, Mars, Jupiter, Saturn, Uranus and Neptune.\n",
      "each planet has its own unique characteristics, such as their size, composition, atmosphere, and distance from the sun.\n",
      "Astronomers often divide the solar system into two main categories: the inner solar system and the outer solar system. the inner solar system consists of Mercury, Venus, Earth, and Mars, while the outer solar system includes Jupiter, Saturn, Uranus, and Neptune.\n",
      "in addition to the planets, the solar system also contains many smaller bodies such as dwarf planets, asteroids, comets, and meteoroids. dwarf planets are objects that are large enough to be rounded by their own gravity but have not cleared their orbits of other objects.\n",
      "the solar system formed around 4.6 billion years ago from a cloud of gas and dust in the milky way galaxy. the process of planetary formation is still not fully understood, but it is believed that the solar system began as a giant disk of material that slowly cooled and hopefully, this will help you understand a little better.\n",
      "the solar system consists of eight planets: Mercury, Venus, Earth, Mars, Jupiter, Saturn, Uranus and Neptune.\n",
      "each planet has its own unique characteristics, such as their size, composition, atmosphere, and distance from the sun.\n",
      "Astronomers often divide the solar system into two main categories: the inner solar system and the outer solar system. the inner solar system consists of Mercury, Venus, Earth, and Mars, while the outer solar system includes Jupiter, Saturn, Uranus, and Neptune.\n",
      "in addition to the planets, the solar system also contains many smaller bodies such as dwarf planets, asteroids, comets, and meteoroids. dwarf planets are objects that are large enough to be rounded by their own gravity but have not cleared their orbits of other objects.\n",
      "the solar system formed around 4.6 billion years ago from a cloud of gas and dust in the milky way galaxy. the process of planetary formation is still not fully understood, but it is believed that the solar system began as a giant disk of material that slowly cooled and\n"
     ]
    },
    {
     "name": "stderr",
     "output_type": "stream",
     "text": [
      "\n",
      "llama_print_timings:        load time =  2167.84 ms\n",
      "llama_print_timings:      sample time =   320.73 ms /   256 runs   (    1.25 ms per token,   798.18 tokens per second)\n",
      "llama_print_timings: prompt eval time =  2167.72 ms /     8 tokens (  270.97 ms per token,     3.69 tokens per second)\n",
      "llama_print_timings:        eval time = 67399.20 ms /   255 runs   (  264.31 ms per token,     3.78 tokens per second)\n",
      "llama_print_timings:       total time = 71033.00 ms\n"
     ]
    }
   ],
   "source": [
    "prompt = \"\"\"what is the solar system?\n",
    "\"\"\"\n",
    "msg = llm(prompt)\n",
    "\n",
    "#print(msg)"
   ]
  },
  {
   "cell_type": "code",
   "execution_count": 6,
   "metadata": {},
   "outputs": [],
   "source": [
    "template = \"\"\"Question: {question}\n",
    "\n",
    "Answer: Let's work this out in a step by step way to be sure we have the right answer.\"\"\"\n",
    "\n",
    "prompt_template = PromptTemplate(template=template, input_variables=[\"question\"])"
   ]
  },
  {
   "cell_type": "code",
   "execution_count": 7,
   "metadata": {},
   "outputs": [],
   "source": [
    "llm_chain = LLMChain(llm=llm, prompt=prompt_template)\n"
   ]
  },
  {
   "cell_type": "code",
   "execution_count": 8,
   "metadata": {},
   "outputs": [
    {
     "name": "stderr",
     "output_type": "stream",
     "text": [
      "Llama.generate: prefix-match hit\n"
     ]
    },
    {
     "name": "stdout",
     "output_type": "stream",
     "text": [
      "\n",
      "Justin Bieber was born on March 1, 1994. The first Super Bowl was held in 1967. So, Justin Bieber was not alive when the first Super Bowl was played. Therefore, no NFL team won the Super Bowl in the year Justin Bieber was born."
     ]
    },
    {
     "name": "stderr",
     "output_type": "stream",
     "text": [
      "\n",
      "llama_print_timings:        load time =  2167.84 ms\n",
      "llama_print_timings:      sample time =    78.73 ms /    69 runs   (    1.14 ms per token,   876.42 tokens per second)\n",
      "llama_print_timings: prompt eval time =  7853.98 ms /    44 tokens (  178.50 ms per token,     5.60 tokens per second)\n",
      "llama_print_timings:        eval time = 17104.88 ms /    68 runs   (  251.54 ms per token,     3.98 tokens per second)\n",
      "llama_print_timings:       total time = 25322.83 ms\n"
     ]
    }
   ],
   "source": [
    "question = \"What NFL team won the Super Bowl in the year Justin Bieber was born?\"\n",
    "\n",
    "msg = llm_chain.run(question)\n",
    "\n"
   ]
  },
  {
   "cell_type": "code",
   "execution_count": 9,
   "metadata": {},
   "outputs": [
    {
     "name": "stdout",
     "output_type": "stream",
     "text": [
      "\n",
      "Justin Bieber was born on March 1, 1994. The first Super Bowl was held in 1967. So, Justin Bieber was not alive when the first Super Bowl was played. Therefore, no NFL team won the Super Bowl in the year Justin Bieber was born.\n"
     ]
    }
   ],
   "source": [
    "print(msg, end ='\\n')"
   ]
  }
 ],
 "metadata": {
  "kernelspec": {
   "display_name": "Python 3",
   "language": "python",
   "name": "python3"
  },
  "language_info": {
   "codemirror_mode": {
    "name": "ipython",
    "version": 3
   },
   "file_extension": ".py",
   "mimetype": "text/x-python",
   "name": "python",
   "nbconvert_exporter": "python",
   "pygments_lexer": "ipython3",
   "version": "3.9.6"
  },
  "orig_nbformat": 4
 },
 "nbformat": 4,
 "nbformat_minor": 2
}

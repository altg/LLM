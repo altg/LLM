{
 "cells": [
  {
   "cell_type": "code",
   "execution_count": 1,
   "metadata": {},
   "outputs": [],
   "source": [
    "import uuid\n",
    "\n",
    "import warnings\n",
    "warnings.filterwarnings(\"ignore\")\n",
    "\n",
    "from langchain.embeddings import OpenAIEmbeddings\n",
    "\n",
    "from langchain.document_loaders import PyPDFLoader\n",
    "from langchain.vectorstores import Chroma\n",
    "from langchain.chat_models import ChatOpenAI\n",
    "\n",
    "from langchain.retrievers import ParentDocumentRetriever\n",
    "from langchain.text_splitter import RecursiveCharacterTextSplitter\n",
    "\n",
    "from langchain.prompts import (ChatPromptTemplate,SystemMessagePromptTemplate,HumanMessagePromptTemplate , PromptTemplate)\n",
    "\n",
    "from langchain.storage import InMemoryStore\n",
    "\n",
    "from langchain.chains import RetrievalQA\n",
    "\n"
   ]
  },
  {
   "cell_type": "code",
   "execution_count": 2,
   "metadata": {},
   "outputs": [],
   "source": [
    "loader = PyPDFLoader('../Docs/annualreport.pdf')"
   ]
  },
  {
   "cell_type": "code",
   "execution_count": 3,
   "metadata": {},
   "outputs": [],
   "source": [
    "docs = loader.load()"
   ]
  },
  {
   "cell_type": "code",
   "execution_count": 4,
   "metadata": {},
   "outputs": [],
   "source": [
    "# This text splitter is used to create the parent documents\n",
    "parent_splitter = RecursiveCharacterTextSplitter(chunk_size=2000)\n",
    "# This text splitter is used to create the child documents\n",
    "# It should create documents smaller than the parent\n",
    "child_splitter = RecursiveCharacterTextSplitter(chunk_size=400)\n",
    "# The vectorstore to use to index the child chunks\n",
    "vectorstore = Chroma(collection_name=\"split_parents\", embedding_function=OpenAIEmbeddings())\n",
    "# The storage layer for the parent documents\n",
    "store = InMemoryStore()"
   ]
  },
  {
   "cell_type": "code",
   "execution_count": 5,
   "metadata": {},
   "outputs": [],
   "source": [
    "retriever = ParentDocumentRetriever(\n",
    "    vectorstore=vectorstore, \n",
    "    docstore=store, \n",
    "    child_splitter=child_splitter,\n",
    "    parent_splitter=parent_splitter,\n",
    ")"
   ]
  },
  {
   "cell_type": "code",
   "execution_count": 6,
   "metadata": {},
   "outputs": [
    {
     "data": {
      "text/plain": [
       "662"
      ]
     },
     "execution_count": 6,
     "metadata": {},
     "output_type": "execute_result"
    }
   ],
   "source": [
    "retriever.add_documents(documents=docs , ids = None)\n",
    "\n",
    "len(list(store.yield_keys()))"
   ]
  },
  {
   "cell_type": "code",
   "execution_count": 7,
   "metadata": {},
   "outputs": [],
   "source": [
    "from langchain.output_parsers import PydanticOutputParser\n",
    "from pydantic import BaseModel, Field, validator\n",
    "from typing import List\n",
    "from operator import itemgetter\n",
    "\n",
    "from langchain.schema.runnable import RunnablePassthrough"
   ]
  },
  {
   "cell_type": "code",
   "execution_count": 8,
   "metadata": {},
   "outputs": [],
   "source": [
    "\n",
    "# Define your desired data structure.\n",
    "class FinanceInfo(BaseModel):\n",
    "    year: int = Field(description=\"year\")\n",
    "    gross_income: int = Field(description=\"gross income\")\n",
    "    operating_expenses: int = Field(description=\"operating expenses\")\n",
    "    tax_paid: int = Field(description=\"amount paid as taxes\")\n",
    "    net_income: int = Field(description=\"net income\")\n",
    "\n",
    "\n",
    "class FinanceInfos(BaseModel):\n",
    "    FinanceInfos: List[FinanceInfo]\n",
    "\n",
    "parser = PydanticOutputParser(pydantic_object=FinanceInfos)"
   ]
  },
  {
   "cell_type": "code",
   "execution_count": 9,
   "metadata": {},
   "outputs": [],
   "source": [
    "from langchain.prompts import ChatPromptTemplate\n",
    "\n",
    "template = \"\"\"Use the following pieces of context to answer the question at the end. \n",
    "\n",
    "{context}\n",
    "\n",
    "{format_instructions}\n",
    "\n",
    "Question: {question}\n",
    "\"\"\"\n",
    "\n",
    "#template = template + parser.get_format_instructions()\n",
    "\n",
    "\n",
    "prompt = ChatPromptTemplate.from_template(template)\n",
    "\n"
   ]
  },
  {
   "cell_type": "code",
   "execution_count": 10,
   "metadata": {},
   "outputs": [],
   "source": [
    "chat = ChatOpenAI(temperature = 0.0, model_name=\"gpt-3.5-turbo-16k-0613\")"
   ]
  },
  {
   "cell_type": "code",
   "execution_count": 11,
   "metadata": {},
   "outputs": [],
   "source": [
    "chain_qa = (\n",
    "    {\n",
    "    \"context\": itemgetter(\"question\") | retriever, \n",
    "    \"format_instructions\" : lambda x: parser.get_format_instructions(),\n",
    "    \"question\": itemgetter(\"question\")\n",
    "} | prompt | chat | parser\n",
    ")\n"
   ]
  },
  {
   "cell_type": "code",
   "execution_count": 12,
   "metadata": {},
   "outputs": [],
   "source": [
    "res = chain_qa.invoke({\"question\" : \"What is the Gross Income, Operating Expenses, Tax Paid and Net Income for the past 5 years?\"})"
   ]
  },
  {
   "cell_type": "code",
   "execution_count": 13,
   "metadata": {},
   "outputs": [
    {
     "data": {
      "text/plain": [
       "[FinanceInfo(year=2022, gross_income=17324, operating_expenses=10785, tax_paid=1586, net_income=4953),\n",
       " FinanceInfo(year=2021, gross_income=12774, operating_expenses=8867, tax_paid=899, net_income=3008),\n",
       " FinanceInfo(year=2020, gross_income=12325, operating_expenses=8871, tax_paid=728, net_income=2726),\n",
       " FinanceInfo(year=2019, gross_income=12754, operating_expenses=8887, tax_paid=879, net_income=2988),\n",
       " FinanceInfo(year=2018, gross_income=10920, operating_expenses=7456, tax_paid=883, net_income=2581)]"
      ]
     },
     "execution_count": 13,
     "metadata": {},
     "output_type": "execute_result"
    }
   ],
   "source": [
    "res.FinanceInfos"
   ]
  },
  {
   "cell_type": "code",
   "execution_count": 21,
   "metadata": {},
   "outputs": [
    {
     "data": {
      "text/html": [
       "<div>\n",
       "<style scoped>\n",
       "    .dataframe tbody tr th:only-of-type {\n",
       "        vertical-align: middle;\n",
       "    }\n",
       "\n",
       "    .dataframe tbody tr th {\n",
       "        vertical-align: top;\n",
       "    }\n",
       "\n",
       "    .dataframe thead th {\n",
       "        text-align: right;\n",
       "    }\n",
       "</style>\n",
       "<table border=\"1\" class=\"dataframe\">\n",
       "  <thead>\n",
       "    <tr style=\"text-align: right;\">\n",
       "      <th></th>\n",
       "      <th>year</th>\n",
       "      <th>gross_income</th>\n",
       "      <th>operating_expenses</th>\n",
       "      <th>tax_paid</th>\n",
       "      <th>net_income</th>\n",
       "      <th>check</th>\n",
       "      <th>check2</th>\n",
       "    </tr>\n",
       "  </thead>\n",
       "  <tbody>\n",
       "    <tr>\n",
       "      <th>0</th>\n",
       "      <td>2022</td>\n",
       "      <td>17324</td>\n",
       "      <td>10785</td>\n",
       "      <td>1586</td>\n",
       "      <td>4953</td>\n",
       "      <td>4953</td>\n",
       "      <td>True</td>\n",
       "    </tr>\n",
       "    <tr>\n",
       "      <th>1</th>\n",
       "      <td>2021</td>\n",
       "      <td>12774</td>\n",
       "      <td>8867</td>\n",
       "      <td>899</td>\n",
       "      <td>3008</td>\n",
       "      <td>3008</td>\n",
       "      <td>True</td>\n",
       "    </tr>\n",
       "    <tr>\n",
       "      <th>2</th>\n",
       "      <td>2020</td>\n",
       "      <td>12325</td>\n",
       "      <td>8871</td>\n",
       "      <td>728</td>\n",
       "      <td>2726</td>\n",
       "      <td>2726</td>\n",
       "      <td>True</td>\n",
       "    </tr>\n",
       "    <tr>\n",
       "      <th>3</th>\n",
       "      <td>2019</td>\n",
       "      <td>12754</td>\n",
       "      <td>8887</td>\n",
       "      <td>879</td>\n",
       "      <td>2988</td>\n",
       "      <td>2988</td>\n",
       "      <td>True</td>\n",
       "    </tr>\n",
       "    <tr>\n",
       "      <th>4</th>\n",
       "      <td>2018</td>\n",
       "      <td>10920</td>\n",
       "      <td>7456</td>\n",
       "      <td>883</td>\n",
       "      <td>2581</td>\n",
       "      <td>2581</td>\n",
       "      <td>True</td>\n",
       "    </tr>\n",
       "  </tbody>\n",
       "</table>\n",
       "</div>"
      ],
      "text/plain": [
       "   year  gross_income  operating_expenses  tax_paid  net_income  check  check2\n",
       "0  2022         17324               10785      1586        4953   4953    True\n",
       "1  2021         12774                8867       899        3008   3008    True\n",
       "2  2020         12325                8871       728        2726   2726    True\n",
       "3  2019         12754                8887       879        2988   2988    True\n",
       "4  2018         10920                7456       883        2581   2581    True"
      ]
     },
     "execution_count": 21,
     "metadata": {},
     "output_type": "execute_result"
    }
   ],
   "source": [
    "import pandas as pd\n",
    "\n",
    "df = pd.DataFrame([dict(s) for s in res.FinanceInfos])\n",
    "\n",
    "df = df.assign( check = df.gross_income - df.operating_expenses - df.tax_paid )\n",
    "\n",
    "\n",
    "df.assign( check2 = df.net_income == df['check'] )"
   ]
  },
  {
   "cell_type": "markdown",
   "metadata": {},
   "source": [
    "### ==============  END =========================="
   ]
  },
  {
   "cell_type": "code",
   "execution_count": null,
   "metadata": {},
   "outputs": [],
   "source": [
    "pages = loader.load_and_split()\n",
    "\n"
   ]
  },
  {
   "cell_type": "code",
   "execution_count": null,
   "metadata": {},
   "outputs": [],
   "source": [
    "sub_docs = vectorstore.similarity_search(\"Net Profit, Expenses, Profit before tax and Net income\")\n",
    "print(sub_docs[0].page_content)"
   ]
  },
  {
   "cell_type": "code",
   "execution_count": null,
   "metadata": {},
   "outputs": [],
   "source": [
    "retrieved_docs = retriever.get_relevant_documents(\"Net Profit, Expenses, Profit before tax and Net income\")\n",
    "\n",
    "print(len(retrieved_docs))\n",
    "\n",
    "print(len(retrieved_docs[0].page_content))\n",
    "\n",
    "print(retrieved_docs[2].page_content)"
   ]
  },
  {
   "cell_type": "code",
   "execution_count": null,
   "metadata": {},
   "outputs": [],
   "source": [
    "template=\"You are an experienced financial analyst who use the data provided --- {Data}. \\\n",
    "    To answer the questions from the user. If you cannot answer the question from the data provided, \\\n",
    "        just say so and do not attempt to answer.\"\n",
    "\n",
    "system_message_prompt = SystemMessagePromptTemplate.from_template(template)\n",
    "human_template=\"{Question}\"\n",
    "human_message_prompt = HumanMessagePromptTemplate.from_template(human_template)\n",
    "\n",
    "prompt_template = ChatPromptTemplate.from_messages([system_message_prompt, human_message_prompt])"
   ]
  },
  {
   "cell_type": "code",
   "execution_count": null,
   "metadata": {},
   "outputs": [],
   "source": [
    "qdocs = \"\".join([retrieved_docs[i].page_content for i in range(len(retrieved_docs))])"
   ]
  },
  {
   "cell_type": "code",
   "execution_count": null,
   "metadata": {},
   "outputs": [],
   "source": [
    "chat_input = prompt_template.format_messages(\n",
    "    Data = qdocs,\n",
    "    Question = \"What is the Gross Revenue, Operating Expenses, Profit before tax and Net income for the past 3 years?\"\n",
    ")"
   ]
  },
  {
   "cell_type": "code",
   "execution_count": null,
   "metadata": {},
   "outputs": [],
   "source": [
    "response = chat(chat_input)"
   ]
  },
  {
   "cell_type": "code",
   "execution_count": null,
   "metadata": {},
   "outputs": [],
   "source": [
    "print(response.content)"
   ]
  },
  {
   "cell_type": "code",
   "execution_count": null,
   "metadata": {},
   "outputs": [],
   "source": [
    "prompt_template = \"\"\"You are an expert financial analyst. Use the following pieces of context to answer the question at the end. \\\n",
    "    If you don't know the answer, just say that you don't know, don't try to make up an answer.\n",
    "\n",
    "{context}\n",
    "\n",
    "Question: {question}\n",
    "\"\"\"\n",
    "\n",
    "PROMPT = PromptTemplate(\n",
    "    template=prompt_template, input_variables=[\"context\", \"question\"]\n",
    ")\n",
    "\n",
    "\n",
    "chain_type_kwargs = {\"prompt\": PROMPT}"
   ]
  },
  {
   "cell_type": "code",
   "execution_count": null,
   "metadata": {},
   "outputs": [],
   "source": [
    "qa_chain = RetrievalQA.from_chain_type(\n",
    "    llm=chat, \n",
    "    chain_type=\"stuff\", \n",
    "    retriever=retriever, \n",
    "    chain_type_kwargs=chain_type_kwargs,\n",
    "    verbose=True\n",
    "    )"
   ]
  },
  {
   "cell_type": "code",
   "execution_count": null,
   "metadata": {},
   "outputs": [],
   "source": [
    "query = \"What is the Gross Income, Operating Expenses, Tax Paid and Net Income for the past 3 years?\"\n",
    "\n",
    "res = qa_chain.run(query)\n",
    "\n",
    "print(res)"
   ]
  },
  {
   "cell_type": "code",
   "execution_count": null,
   "metadata": {},
   "outputs": [],
   "source": [
    "from langchain.prompts import ChatPromptTemplate\n",
    "\n",
    "template = \"\"\"You are an expert financial analyst. Use the following pieces of context to answer the question at the end. \\\n",
    "    If you don't know the answer, just say that you don't know, don't try to make up an answer.\n",
    "{context}\n",
    "\n",
    "Question: {question}\n",
    "\"\"\"\n",
    "prompt = ChatPromptTemplate.from_template(template)\n",
    "\n"
   ]
  },
  {
   "cell_type": "code",
   "execution_count": null,
   "metadata": {},
   "outputs": [],
   "source": [
    "\n",
    "from operator import itemgetter\n",
    "from langchain.schema.output_parser import StrOutputParser"
   ]
  },
  {
   "cell_type": "code",
   "execution_count": null,
   "metadata": {},
   "outputs": [],
   "source": [
    "#retriever2 = vectorstore.as_retriever()\n",
    "\n",
    "\n",
    "chain_qa = (\n",
    "    {\n",
    "    \"context\": itemgetter(\"question\") | retriever, \n",
    "    \"question\": itemgetter(\"question\")\n",
    "} | prompt | chat |StrOutputParser()\n",
    ")"
   ]
  },
  {
   "cell_type": "code",
   "execution_count": null,
   "metadata": {},
   "outputs": [],
   "source": [
    "res = chain_qa.invoke({\"question\" : \"What is the Gross Income, Operating Expenses, Tax Paid and Net Income for the past 3 years?\"})"
   ]
  },
  {
   "cell_type": "code",
   "execution_count": null,
   "metadata": {},
   "outputs": [],
   "source": [
    "from IPython.display import display,Markdown\n",
    "display(Markdown(res) )"
   ]
  },
  {
   "cell_type": "code",
   "execution_count": null,
   "metadata": {},
   "outputs": [],
   "source": [
    "chain_qa_old = (\n",
    "    {\n",
    "    \"context\": itemgetter(\"question\") | retriever, \n",
    "    \"format_instructions\" : itemgetter(\"format_instructions\"),\n",
    "    \"question\": itemgetter(\"question\")\n",
    "} | prompt | chat | parser\n",
    ")\n",
    "\n",
    "res = chain_qa.invoke({\"question\" : \"What is the Gross Income, Operating Expenses, Tax Paid and Net Income for the past 3 years?\",\\\n",
    "                       \"format_instructions\" : parser.get_format_instructions()})"
   ]
  },
  {
   "cell_type": "code",
   "execution_count": null,
   "metadata": {},
   "outputs": [],
   "source": [
    "t = res.FinanceInfos[0]"
   ]
  },
  {
   "cell_type": "code",
   "execution_count": null,
   "metadata": {},
   "outputs": [],
   "source": [
    "t.gross_income - t.operating_expenses - t.tax_paid"
   ]
  },
  {
   "cell_type": "code",
   "execution_count": null,
   "metadata": {},
   "outputs": [],
   "source": [
    "df.plot(x='year' , y='net_income')"
   ]
  },
  {
   "cell_type": "code",
   "execution_count": null,
   "metadata": {},
   "outputs": [],
   "source": [
    "t.net_income"
   ]
  },
  {
   "cell_type": "code",
   "execution_count": null,
   "metadata": {},
   "outputs": [],
   "source": [
    "prompt = ChatPromptTemplate.from_template(\"tell me a joke about {topic}\")\n",
    "\n",
    "chain = prompt | chat\n",
    "\n",
    "for s in chain.stream({\"topic\": \"bears\"}):\n",
    "    print(s.content, end=\"\", flush=True)"
   ]
  }
 ],
 "metadata": {
  "kernelspec": {
   "display_name": "Python 3",
   "language": "python",
   "name": "python3"
  },
  "language_info": {
   "codemirror_mode": {
    "name": "ipython",
    "version": 3
   },
   "file_extension": ".py",
   "mimetype": "text/x-python",
   "name": "python",
   "nbconvert_exporter": "python",
   "pygments_lexer": "ipython3",
   "version": "3.9.6"
  },
  "orig_nbformat": 4
 },
 "nbformat": 4,
 "nbformat_minor": 2
}

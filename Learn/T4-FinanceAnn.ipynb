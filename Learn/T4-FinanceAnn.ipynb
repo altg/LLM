{
 "cells": [
  {
   "cell_type": "code",
   "execution_count": 1,
   "metadata": {},
   "outputs": [
    {
     "name": "stderr",
     "output_type": "stream",
     "text": [
      "/Users/altaf/Projects/LLM/.venv/lib/python3.9/site-packages/urllib3/__init__.py:34: NotOpenSSLWarning: urllib3 v2.0 only supports OpenSSL 1.1.1+, currently the 'ssl' module is compiled with 'LibreSSL 2.8.3'. See: https://github.com/urllib3/urllib3/issues/3020\n",
      "  warnings.warn(\n"
     ]
    }
   ],
   "source": [
    "import uuid\n",
    "\n",
    "from langchain.embeddings import OpenAIEmbeddings\n",
    "\n",
    "from langchain.document_loaders import PyPDFLoader\n",
    "from langchain.vectorstores import Chroma\n",
    "from langchain.chat_models import ChatOpenAI\n",
    "\n",
    "from langchain.retrievers import ParentDocumentRetriever\n",
    "from langchain.text_splitter import RecursiveCharacterTextSplitter\n",
    "\n",
    "from langchain.prompts import (ChatPromptTemplate,SystemMessagePromptTemplate,HumanMessagePromptTemplate , PromptTemplate)\n",
    "\n",
    "from langchain.storage import InMemoryStore\n",
    "\n",
    "from langchain.chains import RetrievalQA\n",
    "\n"
   ]
  },
  {
   "cell_type": "code",
   "execution_count": 2,
   "metadata": {},
   "outputs": [],
   "source": [
    "loader = PyPDFLoader('../Docs/annualreport.pdf')"
   ]
  },
  {
   "cell_type": "code",
   "execution_count": 3,
   "metadata": {},
   "outputs": [],
   "source": [
    "docs = loader.load()"
   ]
  },
  {
   "cell_type": "code",
   "execution_count": 14,
   "metadata": {},
   "outputs": [
    {
     "ename": "DependencyError",
     "evalue": "PyCryptodome is required for AES algorithm",
     "output_type": "error",
     "traceback": [
      "\u001b[0;31m---------------------------------------------------------------------------\u001b[0m",
      "\u001b[0;31mDependencyError\u001b[0m                           Traceback (most recent call last)",
      "Cell \u001b[0;32mIn[14], line 1\u001b[0m\n\u001b[0;32m----> 1\u001b[0m pages \u001b[39m=\u001b[39m loader\u001b[39m.\u001b[39;49mload_and_split()\n",
      "File \u001b[0;32m~/Projects/LLM/.venv/lib/python3.9/site-packages/langchain/document_loaders/base.py:43\u001b[0m, in \u001b[0;36mBaseLoader.load_and_split\u001b[0;34m(self, text_splitter)\u001b[0m\n\u001b[1;32m     41\u001b[0m \u001b[39melse\u001b[39;00m:\n\u001b[1;32m     42\u001b[0m     _text_splitter \u001b[39m=\u001b[39m text_splitter\n\u001b[0;32m---> 43\u001b[0m docs \u001b[39m=\u001b[39m \u001b[39mself\u001b[39;49m\u001b[39m.\u001b[39;49mload()\n\u001b[1;32m     44\u001b[0m \u001b[39mreturn\u001b[39;00m _text_splitter\u001b[39m.\u001b[39msplit_documents(docs)\n",
      "File \u001b[0;32m~/Projects/LLM/.venv/lib/python3.9/site-packages/langchain/document_loaders/pdf.py:154\u001b[0m, in \u001b[0;36mPyPDFLoader.load\u001b[0;34m(self)\u001b[0m\n\u001b[1;32m    152\u001b[0m \u001b[39mdef\u001b[39;00m \u001b[39mload\u001b[39m(\u001b[39mself\u001b[39m) \u001b[39m-\u001b[39m\u001b[39m>\u001b[39m List[Document]:\n\u001b[1;32m    153\u001b[0m \u001b[39m    \u001b[39m\u001b[39m\"\"\"Load given path as pages.\"\"\"\u001b[39;00m\n\u001b[0;32m--> 154\u001b[0m     \u001b[39mreturn\u001b[39;00m \u001b[39mlist\u001b[39;49m(\u001b[39mself\u001b[39;49m\u001b[39m.\u001b[39;49mlazy_load())\n",
      "File \u001b[0;32m~/Projects/LLM/.venv/lib/python3.9/site-packages/langchain/document_loaders/pdf.py:161\u001b[0m, in \u001b[0;36mPyPDFLoader.lazy_load\u001b[0;34m(self)\u001b[0m\n\u001b[1;32m    159\u001b[0m \u001b[39m\u001b[39m\u001b[39m\"\"\"Lazy load given path as pages.\"\"\"\u001b[39;00m\n\u001b[1;32m    160\u001b[0m blob \u001b[39m=\u001b[39m Blob\u001b[39m.\u001b[39mfrom_path(\u001b[39mself\u001b[39m\u001b[39m.\u001b[39mfile_path)\n\u001b[0;32m--> 161\u001b[0m \u001b[39myield from\u001b[39;00m \u001b[39mself\u001b[39;49m\u001b[39m.\u001b[39;49mparser\u001b[39m.\u001b[39;49mparse(blob)\n",
      "File \u001b[0;32m~/Projects/LLM/.venv/lib/python3.9/site-packages/langchain/document_loaders/base.py:95\u001b[0m, in \u001b[0;36mBaseBlobParser.parse\u001b[0;34m(self, blob)\u001b[0m\n\u001b[1;32m     80\u001b[0m \u001b[39mdef\u001b[39;00m \u001b[39mparse\u001b[39m(\u001b[39mself\u001b[39m, blob: Blob) \u001b[39m-\u001b[39m\u001b[39m>\u001b[39m List[Document]:\n\u001b[1;32m     81\u001b[0m \u001b[39m    \u001b[39m\u001b[39m\"\"\"Eagerly parse the blob into a document or documents.\u001b[39;00m\n\u001b[1;32m     82\u001b[0m \n\u001b[1;32m     83\u001b[0m \u001b[39m    This is a convenience method for interactive development environment.\u001b[39;00m\n\u001b[0;32m   (...)\u001b[0m\n\u001b[1;32m     93\u001b[0m \u001b[39m        List of documents\u001b[39;00m\n\u001b[1;32m     94\u001b[0m \u001b[39m    \"\"\"\u001b[39;00m\n\u001b[0;32m---> 95\u001b[0m     \u001b[39mreturn\u001b[39;00m \u001b[39mlist\u001b[39;49m(\u001b[39mself\u001b[39;49m\u001b[39m.\u001b[39;49mlazy_parse(blob))\n",
      "File \u001b[0;32m~/Projects/LLM/.venv/lib/python3.9/site-packages/langchain/document_loaders/parsers/pdf.py:21\u001b[0m, in \u001b[0;36mPyPDFParser.lazy_parse\u001b[0;34m(self, blob)\u001b[0m\n\u001b[1;32m     18\u001b[0m \u001b[39mimport\u001b[39;00m \u001b[39mpypdf\u001b[39;00m\n\u001b[1;32m     20\u001b[0m \u001b[39mwith\u001b[39;00m blob\u001b[39m.\u001b[39mas_bytes_io() \u001b[39mas\u001b[39;00m pdf_file_obj:\n\u001b[0;32m---> 21\u001b[0m     pdf_reader \u001b[39m=\u001b[39m pypdf\u001b[39m.\u001b[39;49mPdfReader(pdf_file_obj, password\u001b[39m=\u001b[39;49m\u001b[39mself\u001b[39;49m\u001b[39m.\u001b[39;49mpassword)\n\u001b[1;32m     22\u001b[0m     \u001b[39myield from\u001b[39;00m [\n\u001b[1;32m     23\u001b[0m         Document(\n\u001b[1;32m     24\u001b[0m             page_content\u001b[39m=\u001b[39mpage\u001b[39m.\u001b[39mextract_text(),\n\u001b[0;32m   (...)\u001b[0m\n\u001b[1;32m     27\u001b[0m         \u001b[39mfor\u001b[39;00m page_number, page \u001b[39min\u001b[39;00m \u001b[39menumerate\u001b[39m(pdf_reader\u001b[39m.\u001b[39mpages)\n\u001b[1;32m     28\u001b[0m     ]\n",
      "File \u001b[0;32m~/Projects/LLM/.venv/lib/python3.9/site-packages/pypdf/_reader.py:338\u001b[0m, in \u001b[0;36mPdfReader.__init__\u001b[0;34m(self, stream, strict, password)\u001b[0m\n\u001b[1;32m    335\u001b[0m \u001b[39m# try empty password if no password provided\u001b[39;00m\n\u001b[1;32m    336\u001b[0m pwd \u001b[39m=\u001b[39m password \u001b[39mif\u001b[39;00m password \u001b[39mis\u001b[39;00m \u001b[39mnot\u001b[39;00m \u001b[39mNone\u001b[39;00m \u001b[39melse\u001b[39;00m \u001b[39mb\u001b[39m\u001b[39m\"\u001b[39m\u001b[39m\"\u001b[39m\n\u001b[1;32m    337\u001b[0m \u001b[39mif\u001b[39;00m (\n\u001b[0;32m--> 338\u001b[0m     \u001b[39mself\u001b[39;49m\u001b[39m.\u001b[39;49m_encryption\u001b[39m.\u001b[39;49mverify(pwd) \u001b[39m==\u001b[39m PasswordType\u001b[39m.\u001b[39mNOT_DECRYPTED\n\u001b[1;32m    339\u001b[0m     \u001b[39mand\u001b[39;00m password \u001b[39mis\u001b[39;00m \u001b[39mnot\u001b[39;00m \u001b[39mNone\u001b[39;00m\n\u001b[1;32m    340\u001b[0m ):\n\u001b[1;32m    341\u001b[0m     \u001b[39m# raise if password provided\u001b[39;00m\n\u001b[1;32m    342\u001b[0m     \u001b[39mraise\u001b[39;00m WrongPasswordError(\u001b[39m\"\u001b[39m\u001b[39mWrong password\u001b[39m\u001b[39m\"\u001b[39m)\n\u001b[1;32m    343\u001b[0m \u001b[39mself\u001b[39m\u001b[39m.\u001b[39m_override_encryption \u001b[39m=\u001b[39m \u001b[39mFalse\u001b[39;00m\n",
      "File \u001b[0;32m~/Projects/LLM/.venv/lib/python3.9/site-packages/pypdf/_encryption.py:978\u001b[0m, in \u001b[0;36mEncryption.verify\u001b[0;34m(self, password)\u001b[0m\n\u001b[1;32m    976\u001b[0m \u001b[39mdef\u001b[39;00m \u001b[39mverify\u001b[39m(\u001b[39mself\u001b[39m, password: Union[\u001b[39mbytes\u001b[39m, \u001b[39mstr\u001b[39m]) \u001b[39m-\u001b[39m\u001b[39m>\u001b[39m PasswordType:\n\u001b[1;32m    977\u001b[0m     pwd \u001b[39m=\u001b[39m \u001b[39mself\u001b[39m\u001b[39m.\u001b[39m_encode_password(password)\n\u001b[0;32m--> 978\u001b[0m     key, rc \u001b[39m=\u001b[39m \u001b[39mself\u001b[39m\u001b[39m.\u001b[39mverify_v4(pwd) \u001b[39mif\u001b[39;00m \u001b[39mself\u001b[39m\u001b[39m.\u001b[39mV \u001b[39m<\u001b[39m\u001b[39m=\u001b[39m \u001b[39m4\u001b[39m \u001b[39melse\u001b[39;00m \u001b[39mself\u001b[39;49m\u001b[39m.\u001b[39;49mverify_v5(pwd)\n\u001b[1;32m    979\u001b[0m     \u001b[39mif\u001b[39;00m rc \u001b[39m!=\u001b[39m PasswordType\u001b[39m.\u001b[39mNOT_DECRYPTED:\n\u001b[1;32m    980\u001b[0m         \u001b[39mself\u001b[39m\u001b[39m.\u001b[39m_password_type \u001b[39m=\u001b[39m rc\n",
      "File \u001b[0;32m~/Projects/LLM/.venv/lib/python3.9/site-packages/pypdf/_encryption.py:1015\u001b[0m, in \u001b[0;36mEncryption.verify_v5\u001b[0;34m(self, password)\u001b[0m\n\u001b[1;32m   1012\u001b[0m \u001b[39mdef\u001b[39;00m \u001b[39mverify_v5\u001b[39m(\u001b[39mself\u001b[39m, password: \u001b[39mbytes\u001b[39m) \u001b[39m-\u001b[39m\u001b[39m>\u001b[39m Tuple[\u001b[39mbytes\u001b[39m, PasswordType]:\n\u001b[1;32m   1013\u001b[0m     \u001b[39m# TODO: use SASLprep process\u001b[39;00m\n\u001b[1;32m   1014\u001b[0m     \u001b[39m# verify owner password first\u001b[39;00m\n\u001b[0;32m-> 1015\u001b[0m     key \u001b[39m=\u001b[39m AlgV5\u001b[39m.\u001b[39;49mverify_owner_password(\n\u001b[1;32m   1016\u001b[0m         \u001b[39mself\u001b[39;49m\u001b[39m.\u001b[39;49mR, password, \u001b[39mself\u001b[39;49m\u001b[39m.\u001b[39;49mvalues\u001b[39m.\u001b[39;49mO, \u001b[39mself\u001b[39;49m\u001b[39m.\u001b[39;49mvalues\u001b[39m.\u001b[39;49mOE, \u001b[39mself\u001b[39;49m\u001b[39m.\u001b[39;49mvalues\u001b[39m.\u001b[39;49mU\n\u001b[1;32m   1017\u001b[0m     )\n\u001b[1;32m   1018\u001b[0m     rc \u001b[39m=\u001b[39m PasswordType\u001b[39m.\u001b[39mOWNER_PASSWORD\n\u001b[1;32m   1019\u001b[0m     \u001b[39mif\u001b[39;00m \u001b[39mnot\u001b[39;00m key:\n",
      "File \u001b[0;32m~/Projects/LLM/.venv/lib/python3.9/site-packages/pypdf/_encryption.py:557\u001b[0m, in \u001b[0;36mAlgV5.verify_owner_password\u001b[0;34m(R, password, o_value, oe_value, u_value)\u001b[0m\n\u001b[1;32m    498\u001b[0m \u001b[39m\u001b[39m\u001b[39m\"\"\"\u001b[39;00m\n\u001b[1;32m    499\u001b[0m \u001b[39mAlgorithm 3.2a Computing an encryption key.\u001b[39;00m\n\u001b[1;32m    500\u001b[0m \n\u001b[0;32m   (...)\u001b[0m\n\u001b[1;32m    553\u001b[0m \u001b[39m    The key\u001b[39;00m\n\u001b[1;32m    554\u001b[0m \u001b[39m\"\"\"\u001b[39;00m\n\u001b[1;32m    555\u001b[0m password \u001b[39m=\u001b[39m password[:\u001b[39m127\u001b[39m]\n\u001b[1;32m    556\u001b[0m \u001b[39mif\u001b[39;00m (\n\u001b[0;32m--> 557\u001b[0m     AlgV5\u001b[39m.\u001b[39;49mcalculate_hash(R, password, o_value[\u001b[39m32\u001b[39;49m:\u001b[39m40\u001b[39;49m], u_value[:\u001b[39m48\u001b[39;49m])\n\u001b[1;32m    558\u001b[0m     \u001b[39m!=\u001b[39m o_value[:\u001b[39m32\u001b[39m]\n\u001b[1;32m    559\u001b[0m ):\n\u001b[1;32m    560\u001b[0m     \u001b[39mreturn\u001b[39;00m \u001b[39mb\u001b[39m\u001b[39m\"\u001b[39m\u001b[39m\"\u001b[39m\n\u001b[1;32m    561\u001b[0m iv \u001b[39m=\u001b[39m \u001b[39mbytes\u001b[39m(\u001b[39m0\u001b[39m \u001b[39mfor\u001b[39;00m _ \u001b[39min\u001b[39;00m \u001b[39mrange\u001b[39m(\u001b[39m16\u001b[39m))\n",
      "File \u001b[0;32m~/Projects/LLM/.venv/lib/python3.9/site-packages/pypdf/_encryption.py:602\u001b[0m, in \u001b[0;36mAlgV5.calculate_hash\u001b[0;34m(R, password, salt, udata)\u001b[0m\n\u001b[1;32m    600\u001b[0m count \u001b[39m+\u001b[39m\u001b[39m=\u001b[39m \u001b[39m1\u001b[39m\n\u001b[1;32m    601\u001b[0m K1 \u001b[39m=\u001b[39m password \u001b[39m+\u001b[39m K \u001b[39m+\u001b[39m udata\n\u001b[0;32m--> 602\u001b[0m E \u001b[39m=\u001b[39m AES_CBC_encrypt(K[:\u001b[39m16\u001b[39;49m], K[\u001b[39m16\u001b[39;49m:\u001b[39m32\u001b[39;49m], K1 \u001b[39m*\u001b[39;49m \u001b[39m64\u001b[39;49m)\n\u001b[1;32m    603\u001b[0m hash_fn \u001b[39m=\u001b[39m (\n\u001b[1;32m    604\u001b[0m     hashlib\u001b[39m.\u001b[39msha256,\n\u001b[1;32m    605\u001b[0m     hashlib\u001b[39m.\u001b[39msha384,\n\u001b[1;32m    606\u001b[0m     hashlib\u001b[39m.\u001b[39msha512,\n\u001b[1;32m    607\u001b[0m )[\u001b[39msum\u001b[39m(E[:\u001b[39m16\u001b[39m]) \u001b[39m%\u001b[39m \u001b[39m3\u001b[39m]\n\u001b[1;32m    608\u001b[0m K \u001b[39m=\u001b[39m hash_fn(E)\u001b[39m.\u001b[39mdigest()\n",
      "File \u001b[0;32m~/Projects/LLM/.venv/lib/python3.9/site-packages/pypdf/_crypt_providers/_fallback.py:89\u001b[0m, in \u001b[0;36maes_cbc_encrypt\u001b[0;34m(key, iv, data)\u001b[0m\n\u001b[1;32m     88\u001b[0m \u001b[39mdef\u001b[39;00m \u001b[39maes_cbc_encrypt\u001b[39m(key: \u001b[39mbytes\u001b[39m, iv: \u001b[39mbytes\u001b[39m, data: \u001b[39mbytes\u001b[39m) \u001b[39m-\u001b[39m\u001b[39m>\u001b[39m \u001b[39mbytes\u001b[39m:\n\u001b[0;32m---> 89\u001b[0m     \u001b[39mraise\u001b[39;00m DependencyError(_DEPENDENCY_ERROR_STR)\n",
      "\u001b[0;31mDependencyError\u001b[0m: PyCryptodome is required for AES algorithm"
     ]
    }
   ],
   "source": [
    "pages = loader.load_and_split()"
   ]
  },
  {
   "cell_type": "code",
   "execution_count": 4,
   "metadata": {},
   "outputs": [],
   "source": [
    "# This text splitter is used to create the parent documents\n",
    "parent_splitter = RecursiveCharacterTextSplitter(chunk_size=2000)\n",
    "# This text splitter is used to create the child documents\n",
    "# It should create documents smaller than the parent\n",
    "child_splitter = RecursiveCharacterTextSplitter(chunk_size=400)\n",
    "# The vectorstore to use to index the child chunks\n",
    "vectorstore = Chroma(collection_name=\"split_parents\", embedding_function=OpenAIEmbeddings())\n",
    "# The storage layer for the parent documents\n",
    "store = InMemoryStore()"
   ]
  },
  {
   "cell_type": "code",
   "execution_count": 5,
   "metadata": {},
   "outputs": [],
   "source": [
    "retriever = ParentDocumentRetriever(\n",
    "    vectorstore=vectorstore, \n",
    "    docstore=store, \n",
    "    child_splitter=child_splitter,\n",
    "    parent_splitter=parent_splitter,\n",
    ")"
   ]
  },
  {
   "cell_type": "code",
   "execution_count": 7,
   "metadata": {},
   "outputs": [],
   "source": [
    "retriever.add_documents(documents=docs , ids = None)"
   ]
  },
  {
   "cell_type": "code",
   "execution_count": 8,
   "metadata": {},
   "outputs": [
    {
     "data": {
      "text/plain": [
       "662"
      ]
     },
     "execution_count": 8,
     "metadata": {},
     "output_type": "execute_result"
    }
   ],
   "source": [
    "len(list(store.yield_keys()))"
   ]
  },
  {
   "cell_type": "code",
   "execution_count": 9,
   "metadata": {},
   "outputs": [
    {
     "name": "stdout",
     "output_type": "stream",
     "text": [
      "Net operating income  17,324 12,774 12,325 12,754 10,920 10,364 10,158 9,262 8,132 6,657\n",
      "Total operating expenses (10,785) (8,867) (8,871) (8,887) (7,456) (7,260) (7,143) (6,740) (6,026) (5,252)\n",
      "Operating profit before income tax  6,539 3,907 3,454 3,867 3,464 3,104 3,015 2,522 2,106 1,405\n",
      "Income tax expense  (1,586) (899) (728) (879) (883) (868) (927) (899) (827) (533)\n"
     ]
    }
   ],
   "source": [
    "sub_docs = vectorstore.similarity_search(\"Net Profit, Expenses, Profit before tax and Net income\")\n",
    "print(sub_docs[0].page_content)"
   ]
  },
  {
   "cell_type": "code",
   "execution_count": 10,
   "metadata": {},
   "outputs": [
    {
     "name": "stdout",
     "output_type": "stream",
     "text": [
      "4\n",
      "1979\n",
      "199Macquarie Group Limited and its subsidiaries 2022 Annual ReportFurther Information Directors’ Report Governance About Financial Report\n",
      "Note 29 \n",
      "Notes to the statements of cash flows continued\n",
      "CONSOLIDATED COMPANY\n",
      "2022 2021 2022 2021\n",
      "$m $m $m $m\n",
      "(ii) Reconciliation of profit after income tax to net cash flows generated from/(utilised in) operating activities\n",
      "Profit after income tax  4,953 3,008 1,549 755\n",
      "Adjustments to profit after income tax:\n",
      "Depreciation and amortisation  819 925 – –\n",
      "Expected credit losses and other impairment charges  509 524 17 (18)\n",
      "Reversal of impairment on investment in subsidiary – – (1,896) –\n",
      "Investment income and gain on sale of operating lease assets and other \n",
      "non-financial assets  (3,257) (1,968) – (167)\n",
      "Share-based payments expense  618 529 – –\n",
      "Share of net (profits)/losses of associates and joint ventures  (240) 3 – –\n",
      "Changes in assets and liabilities:\n",
      "Issued debt securities  38,526 4,138 12,542 2,288\n",
      "Deposits  17,465 17,179 (11) (5)\n",
      "Trading, trading-related and collateralised lending balances  \n",
      "(net of liabilities)(1)7,757 (7,200) – –\n",
      "Borrowings and other funding  14,834 (668) 489 (2,821)\n",
      "Debtors, prepayments, accrued charges and creditors  1,054 778 – 3\n",
      "Carrying values of associates due to dividends received  239 118 – –\n",
      "Other assets and liabilities  (302) 45 (2) (38)\n",
      "Tax balances  (156) 112 (748) (366)\n",
      "Interest, fee and commission receivable and payable  (376) (253) 40 (27)\n",
      "Operating lease assets  (1,070) (388) – –\n",
      "Loan assets  (30,922) (14,056) (13,935) 523\n",
      "Net cash flows generated from/(utilised in) operating activities  50,451 2,826 (1,955) 127\n",
      "(iii)  Non-cash financing activities\n",
      "Non-cash transactions included the issue of ordinary shares of $623 million (2021: $579 million) relating to the issue of shares to the MEREP \n",
      "trust under the MEREP plan and $518 million (2021: $260 million) relating to issue of shares to shareholders under the DRP and ESP for\n"
     ]
    }
   ],
   "source": [
    "retrieved_docs = retriever.get_relevant_documents(\"Net Profit, Expenses, Profit before tax and Net income\")\n",
    "\n",
    "print(len(retrieved_docs))\n",
    "\n",
    "print(len(retrieved_docs[0].page_content))\n",
    "\n",
    "print(retrieved_docs[2].page_content)"
   ]
  },
  {
   "cell_type": "code",
   "execution_count": 11,
   "metadata": {},
   "outputs": [],
   "source": [
    "template=\"You are an experienced financial analyst who use the data provided --- {Data}. \\\n",
    "    To answer the questions from the user. If you cannot answer the question from the data provided, \\\n",
    "        just say so and do not attempt to answer.\"\n",
    "\n",
    "system_message_prompt = SystemMessagePromptTemplate.from_template(template)\n",
    "human_template=\"{Question}\"\n",
    "human_message_prompt = HumanMessagePromptTemplate.from_template(human_template)\n",
    "\n",
    "prompt_template = ChatPromptTemplate.from_messages([system_message_prompt, human_message_prompt])"
   ]
  },
  {
   "cell_type": "code",
   "execution_count": 19,
   "metadata": {},
   "outputs": [],
   "source": [
    "qdocs = \"\".join([retrieved_docs[i].page_content for i in range(len(retrieved_docs))])"
   ]
  },
  {
   "cell_type": "code",
   "execution_count": 12,
   "metadata": {},
   "outputs": [
    {
     "ename": "NameError",
     "evalue": "name 'qdocs' is not defined",
     "output_type": "error",
     "traceback": [
      "\u001b[0;31m---------------------------------------------------------------------------\u001b[0m",
      "\u001b[0;31mNameError\u001b[0m                                 Traceback (most recent call last)",
      "\u001b[1;32m/Users/altaf/Projects/LLM/Learn/T4-FinanceAnn.ipynb Cell 13\u001b[0m in \u001b[0;36m2\n\u001b[1;32m      <a href='vscode-notebook-cell:/Users/altaf/Projects/LLM/Learn/T4-FinanceAnn.ipynb#X15sZmlsZQ%3D%3D?line=0'>1</a>\u001b[0m chat_input \u001b[39m=\u001b[39m prompt_template\u001b[39m.\u001b[39mformat_messages(\n\u001b[0;32m----> <a href='vscode-notebook-cell:/Users/altaf/Projects/LLM/Learn/T4-FinanceAnn.ipynb#X15sZmlsZQ%3D%3D?line=1'>2</a>\u001b[0m     Data \u001b[39m=\u001b[39m qdocs,\n\u001b[1;32m      <a href='vscode-notebook-cell:/Users/altaf/Projects/LLM/Learn/T4-FinanceAnn.ipynb#X15sZmlsZQ%3D%3D?line=2'>3</a>\u001b[0m     Question \u001b[39m=\u001b[39m \u001b[39m\"\u001b[39m\u001b[39mWhat is the Gross Revenue, Operating Expenses, Profit before tax and Net income for the past 3 years?\u001b[39m\u001b[39m\"\u001b[39m\n\u001b[1;32m      <a href='vscode-notebook-cell:/Users/altaf/Projects/LLM/Learn/T4-FinanceAnn.ipynb#X15sZmlsZQ%3D%3D?line=3'>4</a>\u001b[0m )\n",
      "\u001b[0;31mNameError\u001b[0m: name 'qdocs' is not defined"
     ]
    }
   ],
   "source": [
    "chat_input = prompt_template.format_messages(\n",
    "    Data = qdocs,\n",
    "    Question = \"What is the Gross Revenue, Operating Expenses, Profit before tax and Net income for the past 3 years?\"\n",
    ")"
   ]
  },
  {
   "cell_type": "code",
   "execution_count": 9,
   "metadata": {},
   "outputs": [],
   "source": [
    "chat = ChatOpenAI(temperature = 0.0, model_name=\"gpt-3.5-turbo-16k-0613\")"
   ]
  },
  {
   "cell_type": "code",
   "execution_count": 25,
   "metadata": {},
   "outputs": [],
   "source": [
    "response = chat(chat_input)"
   ]
  },
  {
   "cell_type": "code",
   "execution_count": 27,
   "metadata": {},
   "outputs": [
    {
     "name": "stdout",
     "output_type": "stream",
     "text": [
      "The net profit for Macquarie Group Limited for the financial years ended 31 March 2013-2022 are as follows:\n",
      "\n",
      "2022: $4,706 million\n",
      "2021: $3,015 million\n",
      "2020: $2,731 million\n",
      "2019: $2,982 million\n",
      "2018: $2,557 million\n",
      "2017: $2,217 million\n",
      "2016: $2,063 million\n",
      "2015: $1,604 million\n",
      "2014: $1,265 million\n",
      "2013: $851 million\n",
      "\n",
      "The trend in net profit shows an overall increase over the 10-year period, with some fluctuations. There is a general upward trend from 2013 to 2019, with a peak in 2019. However, there was a slight decrease in net profit in 2020, followed by a significant increase in 2021 and 2022. Overall, the trend indicates growth in net profit for Macquarie Group Limited.\n"
     ]
    }
   ],
   "source": [
    "print(response.content)"
   ]
  },
  {
   "cell_type": "code",
   "execution_count": 16,
   "metadata": {},
   "outputs": [],
   "source": [
    "prompt_template = \"\"\"You are an expert financial analyst. Use the following pieces of context to answer the question at the end. \\\n",
    "    If you don't know the answer, just say that you don't know, don't try to make up an answer.\n",
    "\n",
    "{context}\n",
    "\n",
    "Question: {question}\n",
    "\"\"\"\n",
    "\n",
    "PROMPT = PromptTemplate(\n",
    "    template=prompt_template, input_variables=[\"context\", \"question\"]\n",
    ")\n",
    "\n",
    "\n",
    "chain_type_kwargs = {\"prompt\": PROMPT}"
   ]
  },
  {
   "cell_type": "code",
   "execution_count": 17,
   "metadata": {},
   "outputs": [],
   "source": [
    "qa_chain = RetrievalQA.from_chain_type(\n",
    "    llm=chat, \n",
    "    chain_type=\"stuff\", \n",
    "    retriever=retriever, \n",
    "    chain_type_kwargs=chain_type_kwargs,\n",
    "    verbose=True\n",
    "    )"
   ]
  },
  {
   "cell_type": "code",
   "execution_count": 23,
   "metadata": {},
   "outputs": [
    {
     "name": "stdout",
     "output_type": "stream",
     "text": [
      "\n",
      "\n",
      "\u001b[1m> Entering new RetrievalQA chain...\u001b[0m\n",
      "\n",
      "\u001b[1m> Finished chain.\u001b[0m\n",
      "Based on the provided information, the Gross Income, Operating Expenses, Tax Paid, and Net Income for the past 3 years are as follows:\n",
      "\n",
      "Year 2022:\n",
      "- Gross Income: $17,324 million\n",
      "- Operating Expenses: $10,785 million\n",
      "- Tax Paid: $1,586 million\n",
      "- Net Income: $4,953 million\n",
      "\n",
      "Year 2021:\n",
      "- Gross Income: $12,774 million\n",
      "- Operating Expenses: $8,867 million\n",
      "- Tax Paid: $899 million\n",
      "- Net Income: $3,008 million\n",
      "\n",
      "Year 2020:\n",
      "- Gross Income: $12,325 million\n",
      "- Operating Expenses: $8,871 million\n",
      "- Tax Paid: $728 million\n",
      "- Net Income: $2,726 million\n"
     ]
    }
   ],
   "source": [
    "query = \"What is the Gross Income, Operating Expenses, Tax Paid and Net Income for the past 3 years?\"\n",
    "\n",
    "res = qa_chain.run(query)\n",
    "\n",
    "print(res)"
   ]
  },
  {
   "cell_type": "code",
   "execution_count": 24,
   "metadata": {},
   "outputs": [],
   "source": [
    "from langchain.prompts import ChatPromptTemplate\n",
    "\n",
    "template = \"\"\"You are an expert financial analyst. Use the following pieces of context to answer the question at the end. \\\n",
    "    If you don't know the answer, just say that you don't know, don't try to make up an answer.\n",
    "{context}\n",
    "\n",
    "Question: {question}\n",
    "\"\"\"\n",
    "prompt = ChatPromptTemplate.from_template(template)\n",
    "\n"
   ]
  },
  {
   "cell_type": "code",
   "execution_count": 25,
   "metadata": {},
   "outputs": [],
   "source": [
    "\n",
    "from operator import itemgetter\n",
    "from langchain.schema.output_parser import StrOutputParser"
   ]
  },
  {
   "cell_type": "code",
   "execution_count": 26,
   "metadata": {},
   "outputs": [],
   "source": [
    "#retriever2 = vectorstore.as_retriever()\n",
    "\n",
    "\n",
    "chain_qa = (\n",
    "    {\n",
    "    \"context\": itemgetter(\"question\") | retriever, \n",
    "    \"question\": itemgetter(\"question\")\n",
    "} | prompt | chat |StrOutputParser()\n",
    ")"
   ]
  },
  {
   "cell_type": "code",
   "execution_count": 29,
   "metadata": {},
   "outputs": [],
   "source": [
    "res = chain_qa.invoke({\"question\" : \"What is the Gross Income, Operating Expenses, Tax Paid and Net Income for the past 3 years?\"})"
   ]
  },
  {
   "cell_type": "code",
   "execution_count": 30,
   "metadata": {},
   "outputs": [
    {
     "data": {
      "text/markdown": [
       "Based on the provided information, the Gross Income, Operating Expenses, Tax Paid, and Net Income for the past 3 years are as follows:\n",
       "\n",
       "Year 2022:\n",
       "- Gross Income: $17,324 million\n",
       "- Operating Expenses: $10,785 million\n",
       "- Tax Paid: $1,586 million\n",
       "- Net Income: $4,953 million\n",
       "\n",
       "Year 2021:\n",
       "- Gross Income: $12,774 million\n",
       "- Operating Expenses: $8,867 million\n",
       "- Tax Paid: $899 million\n",
       "- Net Income: $3,008 million\n",
       "\n",
       "Year 2020:\n",
       "- Gross Income: $12,325 million\n",
       "- Operating Expenses: $8,871 million\n",
       "- Tax Paid: $728 million\n",
       "- Net Income: $2,726 million"
      ],
      "text/plain": [
       "<IPython.core.display.Markdown object>"
      ]
     },
     "metadata": {},
     "output_type": "display_data"
    }
   ],
   "source": [
    "from IPython.display import display,Markdown\n",
    "display(Markdown(res) )"
   ]
  },
  {
   "cell_type": "code",
   "execution_count": 14,
   "metadata": {},
   "outputs": [],
   "source": [
    "from langchain.output_parsers import PydanticOutputParser\n",
    "from pydantic import BaseModel, Field, validator\n",
    "from typing import List\n",
    "from operator import itemgetter\n",
    "\n",
    "from langchain.schema.runnable import RunnablePassthrough"
   ]
  },
  {
   "cell_type": "code",
   "execution_count": 11,
   "metadata": {},
   "outputs": [],
   "source": [
    "\n",
    "# Define your desired data structure.\n",
    "class FinanceInfo(BaseModel):\n",
    "    year: int = Field(description=\"year\")\n",
    "    gross_income: int = Field(description=\"gross income\")\n",
    "    operating_expenses: int = Field(description=\"operating expenses\")\n",
    "    tax_paid: int = Field(description=\"amount paid as taxes\")\n",
    "    net_income: int = Field(description=\"net income\")\n",
    "\n",
    "\n",
    "\n",
    "class FinanceInfos(BaseModel):\n",
    "    FinanceInfos: List[FinanceInfo]\n",
    "\n",
    "parser = PydanticOutputParser(pydantic_object=FinanceInfos)"
   ]
  },
  {
   "cell_type": "code",
   "execution_count": 12,
   "metadata": {},
   "outputs": [],
   "source": [
    "from langchain.prompts import ChatPromptTemplate\n",
    "\n",
    "template = \"\"\"Use the following pieces of context to answer the question at the end. \n",
    "\n",
    "{context}\n",
    "\n",
    "{format_instructions}\n",
    "\n",
    "Question: {question}\n",
    "\"\"\"\n",
    "\n",
    "#template = template + parser.get_format_instructions()\n",
    "\n",
    "\n",
    "prompt = ChatPromptTemplate.from_template(template)\n",
    "\n"
   ]
  },
  {
   "cell_type": "code",
   "execution_count": 87,
   "metadata": {},
   "outputs": [],
   "source": [
    "chain_qa_old = (\n",
    "    {\n",
    "    \"context\": itemgetter(\"question\") | retriever, \n",
    "    \"format_instructions\" : itemgetter(\"format_instructions\"),\n",
    "    \"question\": itemgetter(\"question\")\n",
    "} | prompt | chat | parser\n",
    ")\n",
    "\n",
    "res = chain_qa.invoke({\"question\" : \"What is the Gross Income, Operating Expenses, Tax Paid and Net Income for the past 3 years?\",\\\n",
    "                       \"format_instructions\" : parser.get_format_instructions()})"
   ]
  },
  {
   "cell_type": "code",
   "execution_count": 15,
   "metadata": {},
   "outputs": [],
   "source": [
    "chain_qa = (\n",
    "    {\n",
    "    \"context\": itemgetter(\"question\") | retriever, \n",
    "    \"format_instructions\" : lambda x: parser.get_format_instructions(),\n",
    "    \"question\": itemgetter(\"question\")\n",
    "} | prompt | chat | parser\n",
    ")\n",
    "\n"
   ]
  },
  {
   "cell_type": "code",
   "execution_count": 16,
   "metadata": {},
   "outputs": [],
   "source": [
    "res = chain_qa.invoke({\"question\" : \"What is the Gross Income, Operating Expenses, Tax Paid and Net Income for the past 5 years?\"})"
   ]
  },
  {
   "cell_type": "code",
   "execution_count": 19,
   "metadata": {},
   "outputs": [
    {
     "data": {
      "text/plain": [
       "[FinanceInfo(year=2022, gross_income=17324, operating_expenses=10785, tax_paid=1586, net_income=4953),\n",
       " FinanceInfo(year=2021, gross_income=12774, operating_expenses=8867, tax_paid=899, net_income=3008),\n",
       " FinanceInfo(year=2020, gross_income=12325, operating_expenses=8871, tax_paid=728, net_income=2726),\n",
       " FinanceInfo(year=2019, gross_income=12754, operating_expenses=8887, tax_paid=879, net_income=2988),\n",
       " FinanceInfo(year=2018, gross_income=10920, operating_expenses=7456, tax_paid=883, net_income=2581)]"
      ]
     },
     "execution_count": 19,
     "metadata": {},
     "output_type": "execute_result"
    }
   ],
   "source": [
    "res.FinanceInfos"
   ]
  },
  {
   "cell_type": "code",
   "execution_count": 25,
   "metadata": {},
   "outputs": [],
   "source": [
    "t = res.FinanceInfos[0]"
   ]
  },
  {
   "cell_type": "code",
   "execution_count": 98,
   "metadata": {},
   "outputs": [
    {
     "data": {
      "text/plain": [
       "4953"
      ]
     },
     "execution_count": 98,
     "metadata": {},
     "output_type": "execute_result"
    }
   ],
   "source": [
    "t.gross_income - t.operating_expenses - t.tax_paid"
   ]
  },
  {
   "cell_type": "code",
   "execution_count": 21,
   "metadata": {},
   "outputs": [
    {
     "data": {
      "text/html": [
       "<div>\n",
       "<style scoped>\n",
       "    .dataframe tbody tr th:only-of-type {\n",
       "        vertical-align: middle;\n",
       "    }\n",
       "\n",
       "    .dataframe tbody tr th {\n",
       "        vertical-align: top;\n",
       "    }\n",
       "\n",
       "    .dataframe thead th {\n",
       "        text-align: right;\n",
       "    }\n",
       "</style>\n",
       "<table border=\"1\" class=\"dataframe\">\n",
       "  <thead>\n",
       "    <tr style=\"text-align: right;\">\n",
       "      <th></th>\n",
       "      <th>year</th>\n",
       "      <th>gross_income</th>\n",
       "      <th>operating_expenses</th>\n",
       "      <th>tax_paid</th>\n",
       "      <th>net_income</th>\n",
       "    </tr>\n",
       "  </thead>\n",
       "  <tbody>\n",
       "    <tr>\n",
       "      <th>0</th>\n",
       "      <td>2022</td>\n",
       "      <td>17324</td>\n",
       "      <td>10785</td>\n",
       "      <td>1586</td>\n",
       "      <td>4953</td>\n",
       "    </tr>\n",
       "    <tr>\n",
       "      <th>1</th>\n",
       "      <td>2021</td>\n",
       "      <td>12774</td>\n",
       "      <td>8867</td>\n",
       "      <td>899</td>\n",
       "      <td>3008</td>\n",
       "    </tr>\n",
       "    <tr>\n",
       "      <th>2</th>\n",
       "      <td>2020</td>\n",
       "      <td>12325</td>\n",
       "      <td>8871</td>\n",
       "      <td>728</td>\n",
       "      <td>2726</td>\n",
       "    </tr>\n",
       "    <tr>\n",
       "      <th>3</th>\n",
       "      <td>2019</td>\n",
       "      <td>12754</td>\n",
       "      <td>8887</td>\n",
       "      <td>879</td>\n",
       "      <td>2988</td>\n",
       "    </tr>\n",
       "    <tr>\n",
       "      <th>4</th>\n",
       "      <td>2018</td>\n",
       "      <td>10920</td>\n",
       "      <td>7456</td>\n",
       "      <td>883</td>\n",
       "      <td>2581</td>\n",
       "    </tr>\n",
       "  </tbody>\n",
       "</table>\n",
       "</div>"
      ],
      "text/plain": [
       "   year  gross_income  operating_expenses  tax_paid  net_income\n",
       "0  2022         17324               10785      1586        4953\n",
       "1  2021         12774                8867       899        3008\n",
       "2  2020         12325                8871       728        2726\n",
       "3  2019         12754                8887       879        2988\n",
       "4  2018         10920                7456       883        2581"
      ]
     },
     "execution_count": 21,
     "metadata": {},
     "output_type": "execute_result"
    }
   ],
   "source": [
    "import pandas as pd\n",
    "\n",
    "df = pd.DataFrame([dict(s) for s in res.FinanceInfos])\n",
    "\n",
    "df"
   ]
  },
  {
   "cell_type": "code",
   "execution_count": 23,
   "metadata": {},
   "outputs": [
    {
     "data": {
      "text/plain": [
       "<Axes: xlabel='year'>"
      ]
     },
     "execution_count": 23,
     "metadata": {},
     "output_type": "execute_result"
    },
    {
     "data": {
      "image/png": "[encoded data removed]",
      "text/plain": [
       "<Figure size 640x480 with 1 Axes>"
      ]
     },
     "metadata": {},
     "output_type": "display_data"
    }
   ],
   "source": [
    "df.plot(x='year' , y='net_income')"
   ]
  },
  {
   "cell_type": "code",
   "execution_count": 26,
   "metadata": {},
   "outputs": [
    {
     "data": {
      "text/plain": [
       "4953"
      ]
     },
     "execution_count": 26,
     "metadata": {},
     "output_type": "execute_result"
    }
   ],
   "source": [
    "t.net_income"
   ]
  },
  {
   "cell_type": "code",
   "execution_count": 37,
   "metadata": {},
   "outputs": [
    {
     "name": "stdout",
     "output_type": "stream",
     "text": [
      "Why don't bears wear shoes?\n",
      "\n",
      "Because they have bear feet!"
     ]
    }
   ],
   "source": [
    "prompt = ChatPromptTemplate.from_template(\"tell me a joke about {topic}\")\n",
    "\n",
    "chain = prompt | chat\n",
    "\n",
    "for s in chain.stream({\"topic\": \"bears\"}):\n",
    "    print(s.content, end=\"\", flush=True)"
   ]
  }
 ],
 "metadata": {
  "kernelspec": {
   "display_name": "Python 3",
   "language": "python",
   "name": "python3"
  },
  "language_info": {
   "codemirror_mode": {
    "name": "ipython",
    "version": 3
   },
   "file_extension": ".py",
   "mimetype": "text/x-python",
   "name": "python",
   "nbconvert_exporter": "python",
   "pygments_lexer": "ipython3",
   "version": "3.9.6"
  },
  "orig_nbformat": 4
 },
 "nbformat": 4,
 "nbformat_minor": 2
}

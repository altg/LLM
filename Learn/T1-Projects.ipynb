{
 "cells": [
  {
   "cell_type": "code",
   "execution_count": 1,
   "metadata": {},
   "outputs": [
    {
     "data": {
      "text/html": [
       "<div>\n",
       "<style scoped>\n",
       "    .dataframe tbody tr th:only-of-type {\n",
       "        vertical-align: middle;\n",
       "    }\n",
       "\n",
       "    .dataframe tbody tr th {\n",
       "        vertical-align: top;\n",
       "    }\n",
       "\n",
       "    .dataframe thead th {\n",
       "        text-align: right;\n",
       "    }\n",
       "</style>\n",
       "<table border=\"1\" class=\"dataframe\">\n",
       "  <thead>\n",
       "    <tr style=\"text-align: right;\">\n",
       "      <th></th>\n",
       "      <th>Text_ID</th>\n",
       "      <th>Project</th>\n",
       "      <th>Free_Text_KEY</th>\n",
       "      <th>Free_Text_title</th>\n",
       "      <th>Text</th>\n",
       "      <th>Is_latest_text</th>\n",
       "    </tr>\n",
       "  </thead>\n",
       "  <tbody>\n",
       "    <tr>\n",
       "      <th>0</th>\n",
       "      <td>3</td>\n",
       "      <td>IDN0174</td>\n",
       "      <td>5</td>\n",
       "      <td>Project Objective</td>\n",
       "      <td>To recover the social and economic activity in...</td>\n",
       "      <td>0</td>\n",
       "    </tr>\n",
       "    <tr>\n",
       "      <th>1</th>\n",
       "      <td>12843</td>\n",
       "      <td>TUN1004</td>\n",
       "      <td>5</td>\n",
       "      <td>Project Objective</td>\n",
       "      <td>the objective is to address the urgent needs o...</td>\n",
       "      <td>1</td>\n",
       "    </tr>\n",
       "    <tr>\n",
       "      <th>2</th>\n",
       "      <td>12868</td>\n",
       "      <td>JOR1001</td>\n",
       "      <td>5</td>\n",
       "      <td>Project Objective</td>\n",
       "      <td>The objective of this project is to promote re...</td>\n",
       "      <td>1</td>\n",
       "    </tr>\n",
       "    <tr>\n",
       "      <th>3</th>\n",
       "      <td>12870</td>\n",
       "      <td>BHR1002</td>\n",
       "      <td>5</td>\n",
       "      <td>Project Objective</td>\n",
       "      <td>The objective of the project is to promote you...</td>\n",
       "      <td>1</td>\n",
       "    </tr>\n",
       "    <tr>\n",
       "      <th>4</th>\n",
       "      <td>12871</td>\n",
       "      <td>YEM1001</td>\n",
       "      <td>5</td>\n",
       "      <td>Project Objective</td>\n",
       "      <td>The objective of the Program is to contribute ...</td>\n",
       "      <td>1</td>\n",
       "    </tr>\n",
       "    <tr>\n",
       "      <th>...</th>\n",
       "      <td>...</td>\n",
       "      <td>...</td>\n",
       "      <td>...</td>\n",
       "      <td>...</td>\n",
       "      <td>...</td>\n",
       "      <td>...</td>\n",
       "    </tr>\n",
       "    <tr>\n",
       "      <th>27208</th>\n",
       "      <td>185127</td>\n",
       "      <td>PAK1060</td>\n",
       "      <td>459</td>\n",
       "      <td>Readiness</td>\n",
       "      <td>The project is part of the Work Program for 20...</td>\n",
       "      <td>1</td>\n",
       "    </tr>\n",
       "    <tr>\n",
       "      <th>27209</th>\n",
       "      <td>185129</td>\n",
       "      <td>MOZ1022</td>\n",
       "      <td>5</td>\n",
       "      <td>Project Objective</td>\n",
       "      <td>To organize cataract screening campaigns and p...</td>\n",
       "      <td>1</td>\n",
       "    </tr>\n",
       "    <tr>\n",
       "      <th>27210</th>\n",
       "      <td>185130</td>\n",
       "      <td>MOZ1022</td>\n",
       "      <td>7</td>\n",
       "      <td>Scope</td>\n",
       "      <td>To perform screening 10,000 patients and Condu...</td>\n",
       "      <td>1</td>\n",
       "    </tr>\n",
       "    <tr>\n",
       "      <th>27211</th>\n",
       "      <td>185131</td>\n",
       "      <td>MOZ1022</td>\n",
       "      <td>6</td>\n",
       "      <td>Project Locations</td>\n",
       "      <td>Mozabique</td>\n",
       "      <td>1</td>\n",
       "    </tr>\n",
       "    <tr>\n",
       "      <th>27212</th>\n",
       "      <td>185132</td>\n",
       "      <td>MOZ1022</td>\n",
       "      <td>4</td>\n",
       "      <td>Project Rationale</td>\n",
       "      <td>To support the population in Mozambique in era...</td>\n",
       "      <td>1</td>\n",
       "    </tr>\n",
       "  </tbody>\n",
       "</table>\n",
       "<p>27213 rows × 6 columns</p>\n",
       "</div>"
      ],
      "text/plain": [
       "       Text_ID  Project  Free_Text_KEY    Free_Text_title  \\\n",
       "0            3  IDN0174              5  Project Objective   \n",
       "1        12843  TUN1004              5  Project Objective   \n",
       "2        12868  JOR1001              5  Project Objective   \n",
       "3        12870  BHR1002              5  Project Objective   \n",
       "4        12871  YEM1001              5  Project Objective   \n",
       "...        ...      ...            ...                ...   \n",
       "27208   185127  PAK1060            459          Readiness   \n",
       "27209   185129  MOZ1022              5  Project Objective   \n",
       "27210   185130  MOZ1022              7              Scope   \n",
       "27211   185131  MOZ1022              6  Project Locations   \n",
       "27212   185132  MOZ1022              4  Project Rationale   \n",
       "\n",
       "                                                    Text  Is_latest_text  \n",
       "0      To recover the social and economic activity in...               0  \n",
       "1      the objective is to address the urgent needs o...               1  \n",
       "2      The objective of this project is to promote re...               1  \n",
       "3      The objective of the project is to promote you...               1  \n",
       "4      The objective of the Program is to contribute ...               1  \n",
       "...                                                  ...             ...  \n",
       "27208  The project is part of the Work Program for 20...               1  \n",
       "27209  To organize cataract screening campaigns and p...               1  \n",
       "27210  To perform screening 10,000 patients and Condu...               1  \n",
       "27211                                          Mozabique               1  \n",
       "27212  To support the population in Mozambique in era...               1  \n",
       "\n",
       "[27213 rows x 6 columns]"
      ]
     },
     "execution_count": 1,
     "metadata": {},
     "output_type": "execute_result"
    }
   ],
   "source": [
    "import pandas as pd\n",
    "\n",
    "df = pd.read_csv(\"Results.csv\")\n",
    "\n",
    "df"
   ]
  },
  {
   "cell_type": "code",
   "execution_count": 43,
   "metadata": {},
   "outputs": [],
   "source": [
    "selected_fields = ['Scope' , 'Project Relevance' , 'Project Context' , 'Project Objective' , 'Project Rationale']\n",
    "\n",
    "#selected_fields = [ 'Project Objective' ]\n",
    "\n",
    "filtered_df = df[df['Free_Text_title'].isin(selected_fields) & df['Is_latest_text'] == 1 ]\n",
    "\n",
    "df2 = filtered_df[['Project' , 'Free_Text_title' , 'Text']].pivot(index = ['Project'] , columns='Free_Text_title' , values = 'Text').dropna()\n",
    "\n",
    "df2.reset_index(inplace=True)"
   ]
  },
  {
   "cell_type": "code",
   "execution_count": 13,
   "metadata": {},
   "outputs": [
    {
     "data": {
      "text/plain": [
       "array(['Project Objective', 'Scope', 'Project Rationale',\n",
       "       'Previous Experience with Executing Agency (Yes/No)',\n",
       "       'Project Locations', 'Executing Agency',\n",
       "       'Status of Project Preparation: By IDB', 'Recommendations',\n",
       "       'Lessons Learnt', 'Issues/Action Taken',\n",
       "       'Status of Project Preparation: By Beneficiary', 'Remarks',\n",
       "       'Project Relevance', 'Project Context', 'Project Risks',\n",
       "       'Country Ownership',\n",
       "       'Availability and Quality of project documents', 'Project Results',\n",
       "       'Strategic Alignment of Project', 'Project Current Status'],\n",
       "      dtype=object)"
      ]
     },
     "execution_count": 13,
     "metadata": {},
     "output_type": "execute_result"
    }
   ],
   "source": [
    "pd.unique(df2.Free_Text_title)"
   ]
  },
  {
   "cell_type": "code",
   "execution_count": 52,
   "metadata": {},
   "outputs": [],
   "source": [
    "df_in = df2[['Project' , 'Project Objective']]\n"
   ]
  },
  {
   "cell_type": "code",
   "execution_count": 56,
   "metadata": {},
   "outputs": [],
   "source": [
    "from langchain.document_loaders import DataFrameLoader\n",
    "\n",
    "loader = DataFrameLoader(df_in, page_content_column=\"Project Objective\")\n",
    "\n",
    "docs = loader.load()"
   ]
  },
  {
   "cell_type": "code",
   "execution_count": 57,
   "metadata": {},
   "outputs": [],
   "source": [
    "import os\n",
    "import openai\n",
    "\n",
    "from dotenv import load_dotenv, find_dotenv\n",
    "_ = load_dotenv(find_dotenv()) # read local .env file\n",
    "openai.api_key = os.environ['OPENAI_API_KEY']"
   ]
  },
  {
   "cell_type": "code",
   "execution_count": 58,
   "metadata": {},
   "outputs": [],
   "source": [
    "from langchain.vectorstores import Chroma\n",
    "from langchain.embeddings import OpenAIEmbeddings\n",
    "\n",
    "embeddings = OpenAIEmbeddings()\n",
    "\n",
    "store = Chroma.from_documents(docs, embeddings)\n",
    "\n"
   ]
  },
  {
   "cell_type": "code",
   "execution_count": 60,
   "metadata": {},
   "outputs": [
    {
     "data": {
      "text/plain": [
       "[Document(page_content='Support vulnerable households in rural communities to have improved food security, household income, and resilience to climate change through the construction of agro-based infrastructure projects in the provinces of Badakhshan, Faryab, and Ghazni.', metadata={'Project': 'AFG1037'}),\n",
       " Document(page_content='The overall goal of this pilot intervention is to support vulnerable livelihoods and reduce food insecurity in vulnerable communities in southern Afghanistan.\\nThe project is also expected to support the reduction of illicit crops cultivation, while, at the same time, promoting the economic empowerment of women.', metadata={'Project': 'AFG1027'}),\n",
       " Document(page_content='Improve food security of vulnerable households through diversified Livelihood opportunities and Increase Agriculture and Livestock Production as main sources of livelihood for targeted communities.', metadata={'Project': 'AFG1032'}),\n",
       " Document(page_content=' Project Development Objective is as follows: i) to expand access to affordable finance for constructing 1,989 sustainable multi-storied housings with improved quality and necessary basic facilities for 70,632 lower and middle-income people dwelling in rural and peri-urban areas; ii) to ensure the optimum use of land and save cultivable land; and, iii) to address the climate change issue by introducing 55 climate-resilient housing for climatically vulnerable segments and 39 eco-friendly housing for reducing Green House Gases (GHG) emissions.', metadata={'Project': 'BGD1087'})]"
      ]
     },
     "execution_count": 60,
     "metadata": {},
     "output_type": "execute_result"
    }
   ],
   "source": [
    "store.similarity_search(\"Which projects eleviate poverty?\")"
   ]
  },
  {
   "cell_type": "code",
   "execution_count": 61,
   "metadata": {},
   "outputs": [
    {
     "name": "stderr",
     "output_type": "stream",
     "text": [
      "/Users/altaf/Library/Python/3.9/lib/python/site-packages/langchain/llms/openai.py:801: UserWarning: You are trying to use a chat model. This way of initializing it is no longer supported. Instead, please use: `from langchain.chat_models import ChatOpenAI`\n",
      "  warnings.warn(\n"
     ]
    }
   ],
   "source": [
    "from langchain.llms import OpenAIChat\n",
    "\n",
    "from langchain.chains import RetrievalQA\n",
    "\n",
    "retriever = store.as_retriever()\n",
    "\n",
    "llm = OpenAIChat(temperature = 0.0, model_name=\"gpt-3.5-turbo-16k-0613\")\n",
    "\n",
    "qa_chain = RetrievalQA.from_chain_type(\n",
    "    llm=llm, \n",
    "    chain_type=\"stuff\", \n",
    "    retriever=retriever, \n",
    "    verbose=True\n",
    ")"
   ]
  },
  {
   "cell_type": "code",
   "execution_count": 65,
   "metadata": {},
   "outputs": [
    {
     "name": "stdout",
     "output_type": "stream",
     "text": [
      "\n",
      "\n",
      "\u001b[1m> Entering new RetrievalQA chain...\u001b[0m\n",
      "\n",
      "\u001b[1m> Finished chain.\u001b[0m\n",
      "The projects related to housing aim to expand access to affordable finance for constructing sustainable multi-storied housings with improved quality and necessary basic facilities for lower and middle-income people dwelling in rural and peri-urban areas. These projects also address climate change by introducing climate-resilient and eco-friendly housing.\n"
     ]
    }
   ],
   "source": [
    "query = \"Provide a short summary on the projects related to housing\"\n",
    "\n",
    "res = qa_chain.run(query)\n",
    "\n",
    "print(res)"
   ]
  }
 ],
 "metadata": {
  "kernelspec": {
   "display_name": "Python 3",
   "language": "python",
   "name": "python3"
  },
  "language_info": {
   "codemirror_mode": {
    "name": "ipython",
    "version": 3
   },
   "file_extension": ".py",
   "mimetype": "text/x-python",
   "name": "python",
   "nbconvert_exporter": "python",
   "pygments_lexer": "ipython3",
   "version": "3.9.6"
  },
  "orig_nbformat": 4
 },
 "nbformat": 4,
 "nbformat_minor": 2
}

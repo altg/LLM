{
 "cells": [
  {
   "cell_type": "code",
   "execution_count": 1,
   "metadata": {},
   "outputs": [
    {
     "name": "stderr",
     "output_type": "stream",
     "text": [
      "/Users/altaf/Library/Python/3.9/lib/python/site-packages/urllib3/__init__.py:34: NotOpenSSLWarning: urllib3 v2.0 only supports OpenSSL 1.1.1+, currently the 'ssl' module is compiled with 'LibreSSL 2.8.3'. See: https://github.com/urllib3/urllib3/issues/3020\n",
      "  warnings.warn(\n"
     ]
    }
   ],
   "source": [
    "import os\n",
    "import requests\n",
    "import json\n",
    "import openai\n",
    "\n",
    "import yfinance as yf\n",
    "from yahooquery import Ticker\n",
    "\n",
    "from dotenv import load_dotenv, find_dotenv\n",
    "_ = load_dotenv(find_dotenv()) # read local .env file\n",
    "openai.api_key = os.environ['OPENAI_API_KEY']"
   ]
  },
  {
   "cell_type": "code",
   "execution_count": 2,
   "metadata": {},
   "outputs": [],
   "source": [
    "def get_stock_evolution(company_name, period=\"1y\"):\n",
    "    # Get the stock information\n",
    "    stock = yf.Ticker(company_name)\n",
    "\n",
    "    # Get historical market data\n",
    "    hist = stock.history(period=period)\n",
    "\n",
    "    # Convert the DataFrame to a string with a specific format\n",
    "    data_string = hist.to_string()\n",
    "\n",
    "    # Append the string to the \"investment.txt\" file\n",
    "    with open(\"investment.txt\", \"a\") as file:\n",
    "        file.write(f\"\\nStock Evolution for {company_name}:\\n\")\n",
    "        file.write(data_string)\n",
    "        file.write(\"\\n\")"
   ]
  },
  {
   "cell_type": "code",
   "execution_count": 3,
   "metadata": {},
   "outputs": [],
   "source": [
    "#get_stock_evolution(\"MSFT\")"
   ]
  },
  {
   "cell_type": "code",
   "execution_count": 4,
   "metadata": {},
   "outputs": [],
   "source": [
    "def get_financial_statements(ticker):\n",
    "    # Create a Ticker object\n",
    "    company = Ticker(ticker)\n",
    "\n",
    "    # Get financial data\n",
    "    balance_sheet = company.balance_sheet().to_string()\n",
    "    cash_flow = company.cash_flow(trailing=False).to_string()\n",
    "    income_statement = company.income_statement().to_string()\n",
    "    valuation_measures = str(company.valuation_measures)  # This one might already be a dictionary or string\n",
    "\n",
    "    # Write data to file\n",
    "    with open(\"investment.txt\", \"a\") as file:\n",
    "        file.write(\"\\nBalance Sheet\\n\")\n",
    "        file.write(balance_sheet)\n",
    "        file.write(\"\\nCash Flow\\n\")\n",
    "        file.write(cash_flow)\n",
    "        file.write(\"\\nIncome Statement\\n\")\n",
    "        file.write(income_statement)\n",
    "        file.write(\"\\nValuation Measures\\n\")\n",
    "        file.write(valuation_measures)"
   ]
  },
  {
   "cell_type": "code",
   "execution_count": 5,
   "metadata": {},
   "outputs": [],
   "source": [
    "#get_financial_statements(\"MSFT\")"
   ]
  },
  {
   "cell_type": "code",
   "execution_count": 6,
   "metadata": {},
   "outputs": [],
   "source": [
    "def get_data(company_ticker, period=\"1y\", filename=\"investment.txt\"):\n",
    "    # news = get_company_news(company_name)\n",
    "    # if news:\n",
    "    #     write_news_to_file(news, filename)\n",
    "    # else:\n",
    "    #     print(\"No news found.\")\n",
    "\n",
    "    get_financial_statements(company_ticker)\n",
    "\n",
    "    #get_stock_evolution(company_ticker)\n",
    "\n",
    "    "
   ]
  },
  {
   "cell_type": "code",
   "execution_count": 7,
   "metadata": {},
   "outputs": [],
   "source": [
    "#get_data(\"MSFT\")"
   ]
  },
  {
   "cell_type": "code",
   "execution_count": 19,
   "metadata": {},
   "outputs": [],
   "source": [
    "def financial_analyst(request):\n",
    "\n",
    "    filePath = \"investment.txt\"\n",
    "    if os.path.exists(filePath):\n",
    "        os.remove(filePath)\n",
    "\n",
    "    print(f\"Received request: {request}\")\n",
    "    response = openai.ChatCompletion.create(\n",
    "        model=\"gpt-3.5-turbo-0613\",\n",
    "        messages=[{\n",
    "            \"role\":\n",
    "            \"user\",\n",
    "            \"content\":\n",
    "            f\"Given the user request, what is the comapany name and the company stock ticker ?: {request}?\"\n",
    "        }],\n",
    "        functions=[{\n",
    "            \"name\": \"get_data\",\n",
    "            \"description\":\n",
    "            \"Get financial data on a specific company for investment purposes\",\n",
    "            \"parameters\": {\n",
    "                \"type\": \"object\",\n",
    "                \"properties\": {\n",
    "                    \"company_name\": {\n",
    "                        \"type\":\n",
    "                        \"string\",\n",
    "                        \"description\":\n",
    "                        \"The name of the company\",\n",
    "                    },\n",
    "                    \"company_ticker\": {\n",
    "                        \"type\":\n",
    "                        \"string\",\n",
    "                        \"description\":\n",
    "                        \"the ticker of the stock of the company\"\n",
    "                    },\n",
    "                    \"period\": {\n",
    "                        \"type\": \"string\",\n",
    "                        \"description\": \"The period of analysis\"\n",
    "                    },\n",
    "                    \"filename\": {\n",
    "                        \"type\": \"string\",\n",
    "                        \"description\": \"the filename to store data\"\n",
    "                    }\n",
    "                },\n",
    "                \"required\": [\"company_name\", \"company_ticker\"],\n",
    "            },\n",
    "        }],\n",
    "        function_call={\"name\": \"get_data\"},\n",
    "    )\n",
    "\n",
    "    message = response[\"choices\"][0][\"message\"]\n",
    "\n",
    "    \n",
    "    if message.get(\"function_call\"):\n",
    "        # Parse the arguments from a JSON string to a Python dictionary\n",
    "        arguments = json.loads(message[\"function_call\"][\"arguments\"])\n",
    "        company_name = arguments[\"company_name\"]\n",
    "        company_ticker = arguments[\"company_ticker\"]\n",
    "\n",
    "        # Parse the return value from a JSON string to a Python dictionary\n",
    "        get_data(company_ticker)\n",
    "\n",
    "        with open(\"investment.txt\", \"r\") as file:\n",
    "            content = file.read()[:14000]\n",
    "\n",
    "        second_response = openai.ChatCompletion.create(\n",
    "            model=\"gpt-3.5-turbo-16k\",\n",
    "            messages=[\n",
    "                {\n",
    "                    \"role\": \"user\",\n",
    "                    \"content\": request\n",
    "                },\n",
    "                message,\n",
    "                {\n",
    "                    \"role\": \"system\",\n",
    "                    \"content\": \"\"\"write a detailled investment thesis to answer\n",
    "                      the user request. Provide numbers to justify\n",
    "                      your assertions, a lot ideally. Never mention\n",
    "                      something like this:\n",
    "                      However, it is essential to consider your own risk\n",
    "                      tolerance, financial goals, and time horizon before\n",
    "                      making any investment decisions. It is recommended\n",
    "                      to consult with a financial advisor or do further\n",
    "                      research to gain more insights into the company's f\n",
    "                      undamentals and market trends. The user\n",
    "                      already knows that\"\"\"\n",
    "                },\n",
    "                {\n",
    "                    \"role\": \"assistant\",\n",
    "                    \"content\": content,\n",
    "                },\n",
    "            ],\n",
    "        )\n",
    "\n",
    "        return second_response[\"choices\"][0][\"message\"][\"content\"]"
   ]
  },
  {
   "cell_type": "code",
   "execution_count": 20,
   "metadata": {},
   "outputs": [
    {
     "name": "stdout",
     "output_type": "stream",
     "text": [
      "Received request: How has been the financial performance of AAPL for the past 1 year been?\n",
      "{\n",
      "  \"role\": \"assistant\",\n",
      "  \"content\": null,\n",
      "  \"function_call\": {\n",
      "    \"name\": \"get_data\",\n",
      "    \"arguments\": \"{\\n\\\"company_name\\\": \\\"Apple Inc.\\\",\\n\\\"company_ticker\\\": \\\"AAPL\\\",\\n\\\"period\\\": \\\"1Y\\\"\\n}\"\n",
      "  }\n",
      "}\n",
      "Over the past 1 year, the financial performance of Apple Inc. (AAPL) has been impressive. Let's examine some key financial metrics.\n",
      "\n",
      "1. Stock Performance:\n",
      "   - AAPL's stock price has shown strong growth over the past year, starting at around $135 and currently trading at around $125. The stock has experienced some fluctuations in the short term but has maintained an upward trend in the long run.\n",
      "\n",
      "2. Revenue Growth:\n",
      "   - Apple has continued to exhibit robust revenue growth. In its latest reported quarter, the company reported record-breaking revenue of $83.4 billion, representing a year-over-year increase of 29%. This growth can be attributed to higher sales across all product categories, including iPhone, Mac, iPad, and Wearables.\n",
      "\n",
      "3. Profitability:\n",
      "   - Apple has consistently demonstrated high profitability. It reported a gross margin of 43.3% and a net income of $20.9 billion in the most recent quarter. This highlights the company's ability to generate substantial profits.\n",
      "\n",
      "4. Services Segment:\n",
      "   - The services segment has been a significant driver of Apple's growth. It includes revenue from the App Store, Apple Music, Apple Pay, and other services. In the last reported quarter, services revenue reached an all-time high of $18.4 billion, reflecting a year-over-year growth of 33%. This segment provides a recurring revenue stream for Apple and has been a focus area for expansion.\n",
      "\n",
      "5. Strong Cash Position:\n",
      "   - Apple has a strong cash position, with a significant cash reserve. The company had approximately $200 billion in cash and marketable securities at the end of the last reported quarter. This provides Apple with the financial flexibility to invest in research and development, strategic acquisitions, and share buybacks.\n",
      "\n",
      "6. Dividends and Share Buybacks:\n",
      "   - Apple has a history of returning value to shareholders through dividends and share repurchases. The company has consistently increased its dividend payout, and it currently offers a quarterly dividend of approximately 0.5%. Additionally, Apple has an ongoing share repurchase program, indicating its confidence in the long-term prospects of the company.\n",
      "\n",
      "7. Future Growth Drivers:\n",
      "   - Apple's growth is expected to be fueled by several factors, including the continued adoption of 5G technology, the expansion of its services segment, and the launch of new products and services. The company has a strong ecosystem and customer loyalty, which positions it well for future growth.\n",
      "\n",
      "Overall, Apple Inc.'s financial performance over the past year has been strong. The company has demonstrated revenue growth, profitability, and a solid cash position. With a focus on innovation and expanding its services segment, Apple is well-positioned for continued success in the future.\n"
     ]
    }
   ],
   "source": [
    "user_question = \"How has been the financial performance of AAPL for the past 1 year been?\"\n",
    "\n",
    "print(financial_analyst(user_question))"
   ]
  },
  {
   "cell_type": "code",
   "execution_count": 16,
   "metadata": {},
   "outputs": [
    {
     "name": "stdout",
     "output_type": "stream",
     "text": [
      "Received request: What is the performance of AAPL?\n",
      "As of the latest available data, the performance of Apple Inc. (AAPL) has been relatively positive. Here are some key points regarding AAPL's performance:\n",
      "\n",
      "1. Stock Price Movement: AAPL's stock price has shown consistent growth over time. Since the provided dataset only goes up until December 2022, it is important to note that the stock price may have changed since then. However, historically, AAPL has shown strong performance and has been a popular choice among investors.\n",
      "\n",
      "2. Upward Trend: AAPL has experienced an overall upward trend in its stock price, indicating positive market sentiment and investor confidence in the company. This can be seen by the increasing highs and lows in the stock price over time.\n",
      "\n",
      "3. Volume: The trading volume for AAPL has been consistently high. This indicates strong investor interest and liquidity in the stock, as higher trading volumes suggest more market participation and potential buying/selling opportunities.\n",
      "\n",
      "4. Dividends and Stock Splits: AAPL has not undergone any stock splits during the provided dataset period. It is worth noting that the company has historically returned value to shareholders through dividends.\n",
      "\n",
      "Please note that the provided information is based on historical data and may not reflect the current performance of AAPL. It is always recommended to conduct thorough research and consult with a financial advisor before making any investment decisions.\n",
      "Received request: \n"
     ]
    },
    {
     "name": "stderr",
     "output_type": "stream",
     "text": [
      "Could not get exchangeTimezoneName for ticker '' reason: list index out of range\n",
      ": No price data found, symbol may be delisted (period=1y)\n"
     ]
    },
    {
     "ename": "AttributeError",
     "evalue": "'str' object has no attribute 'to_string'",
     "output_type": "error",
     "traceback": [
      "\u001b[0;31m---------------------------------------------------------------------------\u001b[0m",
      "\u001b[0;31mAttributeError\u001b[0m                            Traceback (most recent call last)",
      "\u001b[1;32m/Users/altaf/Projects/LLM/T4-FinancialAnalyst.ipynb Cell 10\u001b[0m in \u001b[0;36m7\n\u001b[1;32m      <a href='vscode-notebook-cell:/Users/altaf/Projects/LLM/T4-FinancialAnalyst.ipynb#X13sZmlsZQ%3D%3D?line=3'>4</a>\u001b[0m \u001b[39mif\u001b[39;00m user_question \u001b[39m==\u001b[39m \u001b[39m'\u001b[39m\u001b[39mexit\u001b[39m\u001b[39m'\u001b[39m:\n\u001b[1;32m      <a href='vscode-notebook-cell:/Users/altaf/Projects/LLM/T4-FinancialAnalyst.ipynb#X13sZmlsZQ%3D%3D?line=4'>5</a>\u001b[0m     \u001b[39mbreak\u001b[39;00m\n\u001b[0;32m----> <a href='vscode-notebook-cell:/Users/altaf/Projects/LLM/T4-FinancialAnalyst.ipynb#X13sZmlsZQ%3D%3D?line=6'>7</a>\u001b[0m \u001b[39mprint\u001b[39m(financial_analyst(user_question))\n",
      "\u001b[1;32m/Users/altaf/Projects/LLM/T4-FinancialAnalyst.ipynb Cell 10\u001b[0m in \u001b[0;36m5\n\u001b[1;32m     <a href='vscode-notebook-cell:/Users/altaf/Projects/LLM/T4-FinancialAnalyst.ipynb#X13sZmlsZQ%3D%3D?line=55'>56</a>\u001b[0m company_ticker \u001b[39m=\u001b[39m arguments[\u001b[39m\"\u001b[39m\u001b[39mcompany_ticker\u001b[39m\u001b[39m\"\u001b[39m]\n\u001b[1;32m     <a href='vscode-notebook-cell:/Users/altaf/Projects/LLM/T4-FinancialAnalyst.ipynb#X13sZmlsZQ%3D%3D?line=57'>58</a>\u001b[0m \u001b[39m# Parse the return value from a JSON string to a Python dictionary\u001b[39;00m\n\u001b[0;32m---> <a href='vscode-notebook-cell:/Users/altaf/Projects/LLM/T4-FinancialAnalyst.ipynb#X13sZmlsZQ%3D%3D?line=58'>59</a>\u001b[0m get_data(company_ticker)\n\u001b[1;32m     <a href='vscode-notebook-cell:/Users/altaf/Projects/LLM/T4-FinancialAnalyst.ipynb#X13sZmlsZQ%3D%3D?line=60'>61</a>\u001b[0m \u001b[39mwith\u001b[39;00m \u001b[39mopen\u001b[39m(\u001b[39m\"\u001b[39m\u001b[39minvestment.txt\u001b[39m\u001b[39m\"\u001b[39m, \u001b[39m\"\u001b[39m\u001b[39mr\u001b[39m\u001b[39m\"\u001b[39m) \u001b[39mas\u001b[39;00m file:\n\u001b[1;32m     <a href='vscode-notebook-cell:/Users/altaf/Projects/LLM/T4-FinancialAnalyst.ipynb#X13sZmlsZQ%3D%3D?line=61'>62</a>\u001b[0m     content \u001b[39m=\u001b[39m file\u001b[39m.\u001b[39mread()[:\u001b[39m14000\u001b[39m]\n",
      "\u001b[1;32m/Users/altaf/Projects/LLM/T4-FinancialAnalyst.ipynb Cell 10\u001b[0m in \u001b[0;36m1\n\u001b[1;32m      <a href='vscode-notebook-cell:/Users/altaf/Projects/LLM/T4-FinancialAnalyst.ipynb#X13sZmlsZQ%3D%3D?line=0'>1</a>\u001b[0m \u001b[39mdef\u001b[39;00m \u001b[39mget_data\u001b[39m(company_ticker, period\u001b[39m=\u001b[39m\u001b[39m\"\u001b[39m\u001b[39m1y\u001b[39m\u001b[39m\"\u001b[39m, filename\u001b[39m=\u001b[39m\u001b[39m\"\u001b[39m\u001b[39minvestment.txt\u001b[39m\u001b[39m\"\u001b[39m):\n\u001b[1;32m      <a href='vscode-notebook-cell:/Users/altaf/Projects/LLM/T4-FinancialAnalyst.ipynb#X13sZmlsZQ%3D%3D?line=1'>2</a>\u001b[0m     \u001b[39m# news = get_company_news(company_name)\u001b[39;00m\n\u001b[1;32m      <a href='vscode-notebook-cell:/Users/altaf/Projects/LLM/T4-FinancialAnalyst.ipynb#X13sZmlsZQ%3D%3D?line=2'>3</a>\u001b[0m     \u001b[39m# if news:\u001b[39;00m\n\u001b[1;32m      <a href='vscode-notebook-cell:/Users/altaf/Projects/LLM/T4-FinancialAnalyst.ipynb#X13sZmlsZQ%3D%3D?line=3'>4</a>\u001b[0m     \u001b[39m#     write_news_to_file(news, filename)\u001b[39;00m\n\u001b[1;32m      <a href='vscode-notebook-cell:/Users/altaf/Projects/LLM/T4-FinancialAnalyst.ipynb#X13sZmlsZQ%3D%3D?line=4'>5</a>\u001b[0m     \u001b[39m# else:\u001b[39;00m\n\u001b[1;32m      <a href='vscode-notebook-cell:/Users/altaf/Projects/LLM/T4-FinancialAnalyst.ipynb#X13sZmlsZQ%3D%3D?line=5'>6</a>\u001b[0m     \u001b[39m#     print(\"No news found.\")\u001b[39;00m\n\u001b[1;32m      <a href='vscode-notebook-cell:/Users/altaf/Projects/LLM/T4-FinancialAnalyst.ipynb#X13sZmlsZQ%3D%3D?line=7'>8</a>\u001b[0m     get_stock_evolution(company_ticker)\n\u001b[0;32m---> <a href='vscode-notebook-cell:/Users/altaf/Projects/LLM/T4-FinancialAnalyst.ipynb#X13sZmlsZQ%3D%3D?line=9'>10</a>\u001b[0m     get_financial_statements(company_ticker)\n",
      "\u001b[1;32m/Users/altaf/Projects/LLM/T4-FinancialAnalyst.ipynb Cell 10\u001b[0m in \u001b[0;36m6\n\u001b[1;32m      <a href='vscode-notebook-cell:/Users/altaf/Projects/LLM/T4-FinancialAnalyst.ipynb#X13sZmlsZQ%3D%3D?line=2'>3</a>\u001b[0m company \u001b[39m=\u001b[39m Ticker(ticker)\n\u001b[1;32m      <a href='vscode-notebook-cell:/Users/altaf/Projects/LLM/T4-FinancialAnalyst.ipynb#X13sZmlsZQ%3D%3D?line=4'>5</a>\u001b[0m \u001b[39m# Get financial data\u001b[39;00m\n\u001b[0;32m----> <a href='vscode-notebook-cell:/Users/altaf/Projects/LLM/T4-FinancialAnalyst.ipynb#X13sZmlsZQ%3D%3D?line=5'>6</a>\u001b[0m balance_sheet \u001b[39m=\u001b[39m company\u001b[39m.\u001b[39;49mbalance_sheet()\u001b[39m.\u001b[39;49mto_string()\n\u001b[1;32m      <a href='vscode-notebook-cell:/Users/altaf/Projects/LLM/T4-FinancialAnalyst.ipynb#X13sZmlsZQ%3D%3D?line=6'>7</a>\u001b[0m cash_flow \u001b[39m=\u001b[39m company\u001b[39m.\u001b[39mcash_flow(trailing\u001b[39m=\u001b[39m\u001b[39mFalse\u001b[39;00m)\u001b[39m.\u001b[39mto_string()\n\u001b[1;32m      <a href='vscode-notebook-cell:/Users/altaf/Projects/LLM/T4-FinancialAnalyst.ipynb#X13sZmlsZQ%3D%3D?line=7'>8</a>\u001b[0m income_statement \u001b[39m=\u001b[39m company\u001b[39m.\u001b[39mincome_statement()\u001b[39m.\u001b[39mto_string()\n",
      "\u001b[0;31mAttributeError\u001b[0m: 'str' object has no attribute 'to_string'"
     ]
    }
   ],
   "source": [
    "while True:\n",
    "    user_question = input(\"Enter your investment request:\\n\\n\")\n",
    "\n",
    "    if user_question == 'exit':\n",
    "        break\n",
    "\n",
    "    print(financial_analyst(user_question))"
   ]
  }
 ],
 "metadata": {
  "kernelspec": {
   "display_name": "Python 3",
   "language": "python",
   "name": "python3"
  },
  "language_info": {
   "codemirror_mode": {
    "name": "ipython",
    "version": 3
   },
   "file_extension": ".py",
   "mimetype": "text/x-python",
   "name": "python",
   "nbconvert_exporter": "python",
   "pygments_lexer": "ipython3",
   "version": "3.9.6"
  },
  "orig_nbformat": 4
 },
 "nbformat": 4,
 "nbformat_minor": 2
}

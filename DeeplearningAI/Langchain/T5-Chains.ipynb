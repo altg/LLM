{
 "cells": [
  {
   "cell_type": "code",
   "execution_count": 35,
   "metadata": {},
   "outputs": [],
   "source": [
    "import os\n",
    "\n",
    "from dotenv import load_dotenv, find_dotenv\n",
    "_ = load_dotenv(find_dotenv()) # read local .env file"
   ]
  },
  {
   "cell_type": "code",
   "execution_count": 36,
   "metadata": {},
   "outputs": [],
   "source": [
    "import pandas as pd\n",
    "df = pd.read_csv('Data.csv')"
   ]
  },
  {
   "cell_type": "code",
   "execution_count": 37,
   "metadata": {},
   "outputs": [],
   "source": [
    "from langchain.chat_models import ChatOpenAI\n",
    "from langchain.prompts import ChatPromptTemplate\n",
    "from langchain.chains import (LLMChain, SequentialChain)\n"
   ]
  },
  {
   "cell_type": "code",
   "execution_count": 38,
   "metadata": {},
   "outputs": [],
   "source": [
    "llm = ChatOpenAI(temperature=0.0)\n"
   ]
  },
  {
   "cell_type": "markdown",
   "metadata": {},
   "source": [
    "## Chain 1\n",
    "\n",
    "Determine the Language of the Review"
   ]
  },
  {
   "cell_type": "code",
   "execution_count": 39,
   "metadata": {},
   "outputs": [],
   "source": [
    "first_prompt = ChatPromptTemplate.from_template(\n",
    "    \"Determine and return only the langauge of:\\n\\n{Review}, i.e. English, French, Spanish etc.\"\n",
    ")\n",
    "# chain 3: input= Review and output= language\n",
    "chain_one = LLMChain(llm=llm, prompt=first_prompt,\n",
    "                       output_key=\"language\"\n",
    "                      )"
   ]
  },
  {
   "cell_type": "markdown",
   "metadata": {},
   "source": [
    "## Chain 2\n",
    "\n",
    "Translate reviews to English if not in English"
   ]
  },
  {
   "cell_type": "code",
   "execution_count": 40,
   "metadata": {},
   "outputs": [],
   "source": [
    "second_prompt = ChatPromptTemplate.from_template(\n",
    "    \"Translate the following review to english only if {language} is not English, otherwise just leave it as is:\"\n",
    "    \"\\n\\n{Review}\"\n",
    ")\n",
    "\n",
    "chain_two = LLMChain(llm=llm, prompt=second_prompt, \n",
    "                     output_key=\"English_Review\"\n",
    "                    )"
   ]
  },
  {
   "cell_type": "markdown",
   "metadata": {},
   "source": [
    "## Chain 3\n",
    "\n",
    "Summarize the review to a single sentence"
   ]
  },
  {
   "cell_type": "code",
   "execution_count": 41,
   "metadata": {},
   "outputs": [],
   "source": [
    "third_prompt = ChatPromptTemplate.from_template(\n",
    "    \"Can you summarize the following review in 1 sentence:\"\n",
    "    \"\\n\\n{English_Review}\"\n",
    ")\n",
    "# chain 2: input= English_Review and output= summary\n",
    "chain_three = LLMChain(llm=llm, prompt=third_prompt, \n",
    "                     output_key=\"summary\"\n",
    "                    )"
   ]
  },
  {
   "cell_type": "markdown",
   "metadata": {},
   "source": [
    "## Chain 4\n",
    "\n",
    "Determine the sentiment of the review as either Positive or Negative"
   ]
  },
  {
   "cell_type": "code",
   "execution_count": 42,
   "metadata": {},
   "outputs": [],
   "source": [
    "fourth_prompt = ChatPromptTemplate.from_template(\n",
    "    \"What is the sentiment of the following review, only answer as Positive or Negative:\\n\\n{Review}\"\n",
    ")\n",
    "\n",
    "chain_four = LLMChain(llm =llm, prompt=fourth_prompt,\n",
    "                      output_key=\"sentiment\")"
   ]
  },
  {
   "cell_type": "markdown",
   "metadata": {},
   "source": [
    "## Chain 5\n",
    "\n",
    "Give the review a score between 0 and 5"
   ]
  },
  {
   "cell_type": "code",
   "execution_count": 43,
   "metadata": {},
   "outputs": [],
   "source": [
    "fifth_prompt = ChatPromptTemplate.from_template(\n",
    "    \"Determine the score between 0 to 5 for following review, where 0 is very negative and 5 is very positive, only provide the score:\\n\\n{Review}\"\n",
    ")\n",
    "# chain 3: input= Review and output= language\n",
    "chain_five = LLMChain(llm=llm, prompt=fifth_prompt,\n",
    "                       output_key=\"review_score\"\n",
    "                      )"
   ]
  },
  {
   "cell_type": "code",
   "execution_count": 44,
   "metadata": {},
   "outputs": [],
   "source": [
    "overall_chain = SequentialChain(\n",
    "    chains=[chain_one, chain_two, chain_three, chain_four , chain_five],\n",
    "    input_variables=[\"Review\"],\n",
    "    output_variables=[\"English_Review\", \"language\" , \"summary\", \"sentiment\" , \"review_score\"],\n",
    "    verbose=True\n",
    ")"
   ]
  },
  {
   "cell_type": "code",
   "execution_count": 45,
   "metadata": {},
   "outputs": [
    {
     "name": "stdout",
     "output_type": "stream",
     "text": [
      "I loved the waterproof sac, although the opening was made of a hard plastic. I don’t know if that would break easily. But I couldn’t turn my phone on, once it was in the pouch.\n",
      "\n",
      "\n",
      "\u001b[1m> Entering new  chain...\u001b[0m\n",
      "\n",
      "\u001b[1m> Finished chain.\u001b[0m\n",
      "{'Review': 'I loved the waterproof sac, although the opening was made of a hard plastic. I don’t know if that would break easily. But I couldn’t turn my phone on, once it was in the pouch.', 'English_Review': 'I loved the waterproof sac, although the opening was made of a hard plastic. I don’t know if that would break easily. But I couldn’t turn my phone on, once it was in the pouch.', 'language': 'The language of the given text is English.', 'summary': 'The reviewer enjoyed the waterproof sac but had concerns about the durability of the hard plastic opening and experienced difficulty turning on their phone while it was inside the pouch.', 'sentiment': 'Negative', 'review_score': '3'}\n"
     ]
    }
   ],
   "source": [
    "review = df.Review[1]\n",
    "print(review)\n",
    "msg = overall_chain(review)\n",
    "print(msg)"
   ]
  },
  {
   "cell_type": "code",
   "execution_count": 34,
   "metadata": {},
   "outputs": [
    {
     "name": "stdout",
     "output_type": "stream",
     "text": [
      "{'Review': 'I loved the waterproof sac, although the opening was made of a hard plastic. I don’t know if that would break easily. But I couldn’t turn my phone on, once it was in the pouch.', 'English_Review': 'I loved the waterproof sac, although the opening was made of a hard plastic. I don’t know if that would break easily. But I couldn’t turn my phone on, once it was in the pouch.', 'language': 'The language of the review is English.', 'summary': 'The reviewer enjoyed the waterproof sac but had concerns about the durability of the hard plastic opening and experienced difficulty turning on their phone while it was inside the pouch.', 'sentiment': 'Negative', 'review_score': '3'}\n"
     ]
    }
   ],
   "source": [
    "print(msg)"
   ]
  },
  {
   "cell_type": "code",
   "execution_count": 15,
   "metadata": {},
   "outputs": [
    {
     "name": "stdout",
     "output_type": "stream",
     "text": [
      "\n",
      "\n",
      "\u001b[1m> Entering new  chain...\u001b[0m\n",
      "\n",
      "\u001b[1m> Finished chain.\u001b[0m\n",
      "\n",
      "\n",
      "\u001b[1m> Entering new  chain...\u001b[0m\n",
      "\n",
      "\u001b[1m> Finished chain.\u001b[0m\n",
      "\n",
      "\n",
      "\u001b[1m> Entering new  chain...\u001b[0m\n",
      "\n",
      "\u001b[1m> Finished chain.\u001b[0m\n",
      "\n",
      "\n",
      "\u001b[1m> Entering new  chain...\u001b[0m\n",
      "\n",
      "\u001b[1m> Finished chain.\u001b[0m\n",
      "\n",
      "\n",
      "\u001b[1m> Entering new  chain...\u001b[0m\n",
      "\n",
      "\u001b[1m> Finished chain.\u001b[0m\n",
      "\n",
      "\n",
      "\u001b[1m> Entering new  chain...\u001b[0m\n",
      "\n",
      "\u001b[1m> Finished chain.\u001b[0m\n",
      "\n",
      "\n",
      "\u001b[1m> Entering new  chain...\u001b[0m\n",
      "\n",
      "\u001b[1m> Finished chain.\u001b[0m\n"
     ]
    }
   ],
   "source": [
    "resp = df['Review'].apply(lambda x:overall_chain(x))"
   ]
  },
  {
   "cell_type": "code",
   "execution_count": 19,
   "metadata": {},
   "outputs": [
    {
     "data": {
      "text/html": [
       "<div>\n",
       "<style scoped>\n",
       "    .dataframe tbody tr th:only-of-type {\n",
       "        vertical-align: middle;\n",
       "    }\n",
       "\n",
       "    .dataframe tbody tr th {\n",
       "        vertical-align: top;\n",
       "    }\n",
       "\n",
       "    .dataframe thead th {\n",
       "        text-align: right;\n",
       "    }\n",
       "</style>\n",
       "<table border=\"1\" class=\"dataframe\">\n",
       "  <thead>\n",
       "    <tr style=\"text-align: right;\">\n",
       "      <th></th>\n",
       "      <th>Review</th>\n",
       "      <th>English_Review</th>\n",
       "      <th>language</th>\n",
       "      <th>summary</th>\n",
       "      <th>sentiment</th>\n",
       "      <th>review_score</th>\n",
       "    </tr>\n",
       "  </thead>\n",
       "  <tbody>\n",
       "    <tr>\n",
       "      <th>0</th>\n",
       "      <td>I ordered a king size set. My only criticism w...</td>\n",
       "      <td>I ordered a king size set. My only criticism w...</td>\n",
       "      <td>The language of the review is English.</td>\n",
       "      <td>The reviewer ordered a king size set of sheets...</td>\n",
       "      <td>Positive</td>\n",
       "      <td>4</td>\n",
       "    </tr>\n",
       "    <tr>\n",
       "      <th>1</th>\n",
       "      <td>I loved the waterproof sac, although the openi...</td>\n",
       "      <td>I loved the waterproof sac, although the openi...</td>\n",
       "      <td>The language of the review is English.</td>\n",
       "      <td>The reviewer enjoyed the waterproof sac but ha...</td>\n",
       "      <td>Negative</td>\n",
       "      <td>3</td>\n",
       "    </tr>\n",
       "    <tr>\n",
       "      <th>2</th>\n",
       "      <td>This mattress had a small hole in the top of i...</td>\n",
       "      <td>This mattress had a small hole in the top of i...</td>\n",
       "      <td>The language of the review is English.</td>\n",
       "      <td>The reviewer had a terrible experience with a ...</td>\n",
       "      <td>Negative</td>\n",
       "      <td>Score: 0</td>\n",
       "    </tr>\n",
       "    <tr>\n",
       "      <th>3</th>\n",
       "      <td>This is the best throw pillow fillers on Amazo...</td>\n",
       "      <td>This is the best throw pillow fillers on Amazo...</td>\n",
       "      <td>The language of the review is English.</td>\n",
       "      <td>The reviewer highly recommends these throw pil...</td>\n",
       "      <td>Positive</td>\n",
       "      <td>4.5</td>\n",
       "    </tr>\n",
       "    <tr>\n",
       "      <th>4</th>\n",
       "      <td>I loved this product. But they only seem to l...</td>\n",
       "      <td>I loved this product. But they only seem to la...</td>\n",
       "      <td>The language of the review is English.</td>\n",
       "      <td>The reviewer loved the product initially, but ...</td>\n",
       "      <td>Negative</td>\n",
       "      <td>2</td>\n",
       "    </tr>\n",
       "    <tr>\n",
       "      <th>5</th>\n",
       "      <td>Je trouve le goût médiocre. La mousse ne tient...</td>\n",
       "      <td>I find the taste mediocre. The foam doesn't ho...</td>\n",
       "      <td>The language of the review is French.</td>\n",
       "      <td>The reviewer is disappointed with the taste an...</td>\n",
       "      <td>Negative</td>\n",
       "      <td>2</td>\n",
       "    </tr>\n",
       "    <tr>\n",
       "      <th>6</th>\n",
       "      <td>Está lu bonita calienta muy rápido, es muy fun...</td>\n",
       "      <td>It is a very nice heater, it heats up very qui...</td>\n",
       "      <td>The language of the review is Spanish.</td>\n",
       "      <td>The reviewer finds the heater to be efficient ...</td>\n",
       "      <td>Positive</td>\n",
       "      <td>4</td>\n",
       "    </tr>\n",
       "  </tbody>\n",
       "</table>\n",
       "</div>"
      ],
      "text/plain": [
       "                                              Review  \\\n",
       "0  I ordered a king size set. My only criticism w...   \n",
       "1  I loved the waterproof sac, although the openi...   \n",
       "2  This mattress had a small hole in the top of i...   \n",
       "3  This is the best throw pillow fillers on Amazo...   \n",
       "4   I loved this product. But they only seem to l...   \n",
       "5  Je trouve le goût médiocre. La mousse ne tient...   \n",
       "6  Está lu bonita calienta muy rápido, es muy fun...   \n",
       "\n",
       "                                      English_Review  \\\n",
       "0  I ordered a king size set. My only criticism w...   \n",
       "1  I loved the waterproof sac, although the openi...   \n",
       "2  This mattress had a small hole in the top of i...   \n",
       "3  This is the best throw pillow fillers on Amazo...   \n",
       "4  I loved this product. But they only seem to la...   \n",
       "5  I find the taste mediocre. The foam doesn't ho...   \n",
       "6  It is a very nice heater, it heats up very qui...   \n",
       "\n",
       "                                 language  \\\n",
       "0  The language of the review is English.   \n",
       "1  The language of the review is English.   \n",
       "2  The language of the review is English.   \n",
       "3  The language of the review is English.   \n",
       "4  The language of the review is English.   \n",
       "5   The language of the review is French.   \n",
       "6  The language of the review is Spanish.   \n",
       "\n",
       "                                             summary sentiment review_score  \n",
       "0  The reviewer ordered a king size set of sheets...  Positive            4  \n",
       "1  The reviewer enjoyed the waterproof sac but ha...  Negative            3  \n",
       "2  The reviewer had a terrible experience with a ...  Negative     Score: 0  \n",
       "3  The reviewer highly recommends these throw pil...  Positive          4.5  \n",
       "4  The reviewer loved the product initially, but ...  Negative            2  \n",
       "5  The reviewer is disappointed with the taste an...  Negative            2  \n",
       "6  The reviewer finds the heater to be efficient ...  Positive            4  "
      ]
     },
     "execution_count": 19,
     "metadata": {},
     "output_type": "execute_result"
    }
   ],
   "source": [
    "resp\n",
    "\n",
    "df3 = pd.DataFrame.from_records(resp)\n",
    "\n",
    "df3"
   ]
  },
  {
   "cell_type": "code",
   "execution_count": 46,
   "metadata": {},
   "outputs": [
    {
     "name": "stdout",
     "output_type": "stream",
     "text": [
      "I ordered a king size set. My only criticism would be that I wish seller would offer the king size set with 4 pillowcases. I separately ordered a two pack of pillowcases so I could have a total of four. When I saw the two packages, it looked like the color did not exactly match. Customer service was excellent about sending me two more pillowcases so I would have four that matched. Excellent! For the cost of these sheets, I am satisfied with the characteristics and coolness of the sheets.\n",
      "\n",
      "\n",
      "\u001b[1m> Entering new  chain...\u001b[0m\n"
     ]
    },
    {
     "name": "stderr",
     "output_type": "stream",
     "text": [
      "Retrying langchain.chat_models.openai.ChatOpenAI.completion_with_retry.<locals>._completion_with_retry in 1.0 seconds as it raised ServiceUnavailableError: The server is overloaded or not ready yet..\n"
     ]
    },
    {
     "name": "stdout",
     "output_type": "stream",
     "text": [
      "\n",
      "\u001b[1m> Finished chain.\u001b[0m\n",
      "I loved the waterproof sac, although the opening was made of a hard plastic. I don’t know if that would break easily. But I couldn’t turn my phone on, once it was in the pouch.\n",
      "\n",
      "\n",
      "\u001b[1m> Entering new  chain...\u001b[0m\n",
      "\n",
      "\u001b[1m> Finished chain.\u001b[0m\n",
      "This mattress had a small hole in the top of it (took forever to find where it was), and the patches that they provide did not work, maybe because it's the top of the mattress where it's kind of like fabric and a patch won't stick. Maybe I got unlucky with a defective mattress, but where's quality assurance for this company? That flat out should not happen. Emphasis on flat. Cause that's what the mattress was. Seriously horrible experience, ruined my friend's stay with me. Then they make you ship it back instead of just providing a refund, which is also super annoying to pack up an air mattress and take it to the UPS store. This company is the worst, and this mattress is the worst.\n",
      "\n",
      "\n",
      "\u001b[1m> Entering new  chain...\u001b[0m\n",
      "\n",
      "\u001b[1m> Finished chain.\u001b[0m\n",
      "This is the best throw pillow fillers on Amazon. I’ve tried several others, and they’re all cheap and flat no matter how much fluffing you do. Once you toss these in the dryer after you remove them from the vacuum sealed shipping material, they fluff up great\n",
      "\n",
      "\n",
      "\u001b[1m> Entering new  chain...\u001b[0m\n",
      "\n",
      "\u001b[1m> Finished chain.\u001b[0m\n",
      " I loved this product. But they only seem to last a few months. The company was great replacing the first one (the frother falls out of the handle and can't be fixed). The after 4 months my second one did the same. I only use the frother for coffee once a day. It's not overuse or abuse. I'm very disappointed and will look for another. As I understand they will only replace once. Anyway, if you have one good luck.\n",
      "\n",
      "\n",
      "\u001b[1m> Entering new  chain...\u001b[0m\n",
      "\n",
      "\u001b[1m> Finished chain.\u001b[0m\n"
     ]
    }
   ],
   "source": [
    "responses = []\n",
    "\n",
    "for i in range(0,5):\n",
    "   review = df.Review[i]\n",
    "   print(review)\n",
    "   msg = overall_chain(review)\n",
    "   responses.append(msg)\n",
    "   "
   ]
  },
  {
   "cell_type": "code",
   "execution_count": 18,
   "metadata": {},
   "outputs": [
    {
     "data": {
      "text/html": [
       "<div>\n",
       "<style scoped>\n",
       "    .dataframe tbody tr th:only-of-type {\n",
       "        vertical-align: middle;\n",
       "    }\n",
       "\n",
       "    .dataframe tbody tr th {\n",
       "        vertical-align: top;\n",
       "    }\n",
       "\n",
       "    .dataframe thead th {\n",
       "        text-align: right;\n",
       "    }\n",
       "</style>\n",
       "<table border=\"1\" class=\"dataframe\">\n",
       "  <thead>\n",
       "    <tr style=\"text-align: right;\">\n",
       "      <th></th>\n",
       "      <th>Review</th>\n",
       "      <th>English_Review</th>\n",
       "      <th>language</th>\n",
       "      <th>summary</th>\n",
       "      <th>sentiment</th>\n",
       "      <th>review_score</th>\n",
       "    </tr>\n",
       "  </thead>\n",
       "  <tbody>\n",
       "    <tr>\n",
       "      <th>0</th>\n",
       "      <td>I ordered a king size set. My only criticism w...</td>\n",
       "      <td>I ordered a king size set. My only criticism w...</td>\n",
       "      <td>The language of the review is English.</td>\n",
       "      <td>The reviewer ordered a king size set of sheets...</td>\n",
       "      <td>Positive</td>\n",
       "      <td>4</td>\n",
       "    </tr>\n",
       "    <tr>\n",
       "      <th>1</th>\n",
       "      <td>I loved the waterproof sac, although the openi...</td>\n",
       "      <td>I loved the waterproof sac, although the openi...</td>\n",
       "      <td>The language of the review is English.</td>\n",
       "      <td>The reviewer enjoyed the waterproof sac but ha...</td>\n",
       "      <td>Negative</td>\n",
       "      <td>3</td>\n",
       "    </tr>\n",
       "    <tr>\n",
       "      <th>2</th>\n",
       "      <td>This mattress had a small hole in the top of i...</td>\n",
       "      <td>This mattress had a small hole in the top of i...</td>\n",
       "      <td>The language of the review is English.</td>\n",
       "      <td>The reviewer had a terrible experience with a ...</td>\n",
       "      <td>Negative</td>\n",
       "      <td>Score: 0</td>\n",
       "    </tr>\n",
       "    <tr>\n",
       "      <th>3</th>\n",
       "      <td>This is the best throw pillow fillers on Amazo...</td>\n",
       "      <td>This is the best throw pillow fillers on Amazo...</td>\n",
       "      <td>The language of the review is English.</td>\n",
       "      <td>The reviewer highly recommends these throw pil...</td>\n",
       "      <td>Positive</td>\n",
       "      <td>4.5</td>\n",
       "    </tr>\n",
       "    <tr>\n",
       "      <th>4</th>\n",
       "      <td>I loved this product. But they only seem to l...</td>\n",
       "      <td>I loved this product. But they only seem to la...</td>\n",
       "      <td>The language of the review is English.</td>\n",
       "      <td>The reviewer loved the product initially, but ...</td>\n",
       "      <td>Negative</td>\n",
       "      <td>2</td>\n",
       "    </tr>\n",
       "    <tr>\n",
       "      <th>5</th>\n",
       "      <td>Je trouve le goût médiocre. La mousse ne tient...</td>\n",
       "      <td>I find the taste mediocre. The foam doesn't ho...</td>\n",
       "      <td>The language of the review is French.</td>\n",
       "      <td>The reviewer is disappointed with the taste an...</td>\n",
       "      <td>Negative</td>\n",
       "      <td>2</td>\n",
       "    </tr>\n",
       "    <tr>\n",
       "      <th>6</th>\n",
       "      <td>Está lu bonita calienta muy rápido, es muy fun...</td>\n",
       "      <td>It is a very nice heater, it heats up very qui...</td>\n",
       "      <td>The language of the review is Spanish.</td>\n",
       "      <td>The reviewer finds the heater to be efficient ...</td>\n",
       "      <td>Positive</td>\n",
       "      <td>4</td>\n",
       "    </tr>\n",
       "  </tbody>\n",
       "</table>\n",
       "</div>"
      ],
      "text/plain": [
       "                                              Review  \\\n",
       "0  I ordered a king size set. My only criticism w...   \n",
       "1  I loved the waterproof sac, although the openi...   \n",
       "2  This mattress had a small hole in the top of i...   \n",
       "3  This is the best throw pillow fillers on Amazo...   \n",
       "4   I loved this product. But they only seem to l...   \n",
       "5  Je trouve le goût médiocre. La mousse ne tient...   \n",
       "6  Está lu bonita calienta muy rápido, es muy fun...   \n",
       "\n",
       "                                      English_Review  \\\n",
       "0  I ordered a king size set. My only criticism w...   \n",
       "1  I loved the waterproof sac, although the openi...   \n",
       "2  This mattress had a small hole in the top of i...   \n",
       "3  This is the best throw pillow fillers on Amazo...   \n",
       "4  I loved this product. But they only seem to la...   \n",
       "5  I find the taste mediocre. The foam doesn't ho...   \n",
       "6  It is a very nice heater, it heats up very qui...   \n",
       "\n",
       "                                 language  \\\n",
       "0  The language of the review is English.   \n",
       "1  The language of the review is English.   \n",
       "2  The language of the review is English.   \n",
       "3  The language of the review is English.   \n",
       "4  The language of the review is English.   \n",
       "5   The language of the review is French.   \n",
       "6  The language of the review is Spanish.   \n",
       "\n",
       "                                             summary sentiment review_score  \n",
       "0  The reviewer ordered a king size set of sheets...  Positive            4  \n",
       "1  The reviewer enjoyed the waterproof sac but ha...  Negative            3  \n",
       "2  The reviewer had a terrible experience with a ...  Negative     Score: 0  \n",
       "3  The reviewer highly recommends these throw pil...  Positive          4.5  \n",
       "4  The reviewer loved the product initially, but ...  Negative            2  \n",
       "5  The reviewer is disappointed with the taste an...  Negative            2  \n",
       "6  The reviewer finds the heater to be efficient ...  Positive            4  "
      ]
     },
     "execution_count": 18,
     "metadata": {},
     "output_type": "execute_result"
    }
   ],
   "source": [
    "df3 = pd.DataFrame.from_records(resp)\n",
    "\n",
    "df3"
   ]
  },
  {
   "cell_type": "code",
   "execution_count": 48,
   "metadata": {},
   "outputs": [
    {
     "name": "stdout",
     "output_type": "stream",
     "text": [
      "{'Review': 'I ordered a king size set. My only criticism would be that I wish seller would offer the king size set with 4 pillowcases. I separately ordered a two pack of pillowcases so I could have a total of four. When I saw the two packages, it looked like the color did not exactly match. Customer service was excellent about sending me two more pillowcases so I would have four that matched. Excellent! For the cost of these sheets, I am satisfied with the characteristics and coolness of the sheets.', 'English_Review': 'I ordered a king size set. My only criticism would be that I wish the seller would offer the king size set with 4 pillowcases. I separately ordered a two pack of pillowcases so I could have a total of four. When I saw the two packages, it looked like the color did not exactly match. Customer service was excellent about sending me two more pillowcases so I would have four that matched. Excellent! For the cost of these sheets, I am satisfied with the characteristics and coolness of the sheets.', 'language': 'The following review is in English.', 'summary': 'The reviewer ordered a king size set of sheets and wished the seller offered it with 4 pillowcases, but customer service was excellent in sending them two more pillowcases that matched the color, and overall they were satisfied with the quality and coolness of the sheets for the price.', 'sentiment': 'Positive', 'review_score': 'Based on the review, I would give a score of 4.'}\n",
      "{'Review': 'I loved the waterproof sac, although the opening was made of a hard plastic. I don’t know if that would break easily. But I couldn’t turn my phone on, once it was in the pouch.', 'English_Review': 'I loved the waterproof sac, although the opening was made of a hard plastic. I don’t know if that would break easily. But I couldn’t turn my phone on, once it was in the pouch.', 'language': 'The language of the review appears to be English.', 'summary': 'The reviewer enjoyed the waterproof sac but had concerns about the durability of the hard plastic opening and experienced difficulty turning on their phone while it was inside the pouch.', 'sentiment': 'Negative', 'review_score': 'Based on the review, I would assign a score of 3.5 to this review. The reviewer mentioned loving the waterproof sac, which indicates a positive sentiment. However, they also expressed concern about the opening being made of hard plastic and the potential for it to break easily. Additionally, they mentioned not being able to turn their phone on once it was in the pouch, which could be seen as a negative aspect. Overall, the review has both positive and negative elements, hence the score of 3.5.'}\n",
      "{'Review': \"This mattress had a small hole in the top of it (took forever to find where it was), and the patches that they provide did not work, maybe because it's the top of the mattress where it's kind of like fabric and a patch won't stick. Maybe I got unlucky with a defective mattress, but where's quality assurance for this company? That flat out should not happen. Emphasis on flat. Cause that's what the mattress was. Seriously horrible experience, ruined my friend's stay with me. Then they make you ship it back instead of just providing a refund, which is also super annoying to pack up an air mattress and take it to the UPS store. This company is the worst, and this mattress is the worst.\", 'English_Review': \"This mattress had a small hole in the top of it (took forever to find where it was), and the patches that they provide did not work, maybe because it's the top of the mattress where it's kind of like fabric and a patch won't stick. Maybe I got unlucky with a defective mattress, but where's quality assurance for this company? That flat out should not happen. Emphasis on flat. Cause that's what the mattress was. Seriously horrible experience, ruined my friend's stay with me. Then they make you ship it back instead of just providing a refund, which is also super annoying to pack up an air mattress and take it to the UPS store. This company is the worst, and this mattress is the worst.\", 'language': 'The following review is in English.', 'summary': \"The reviewer had a terrible experience with a defective mattress that had a small hole on the top, the provided patches did not work, and the company's lack of quality assurance and inconvenient return process made it an overall horrible experience.\", 'sentiment': 'Negative', 'review_score': 'Based on the review, the score would be 0.'}\n",
      "{'Review': 'This is the best throw pillow fillers on Amazon. I’ve tried several others, and they’re all cheap and flat no matter how much fluffing you do. Once you toss these in the dryer after you remove them from the vacuum sealed shipping material, they fluff up great', 'English_Review': 'This is the best throw pillow fillers on Amazon. I’ve tried several others, and they’re all cheap and flat no matter how much fluffing you do. Once you toss these in the dryer after you remove them from the vacuum sealed shipping material, they fluff up great.', 'language': 'The following review is in English.', 'summary': 'The reviewer highly recommends these throw pillow fillers on Amazon as they are superior to other options, being able to fluff up nicely after being put in the dryer.', 'sentiment': 'Positive', 'review_score': '4.5'}\n",
      "{'Review': \"\\xa0I loved this product. But they only seem to last a few months. The company was great replacing the first one (the frother falls out of the handle and can't be fixed). The after 4 months my second one did the same. I only use the frother for coffee once a day. It's not overuse or abuse. I'm very disappointed and will look for another. As I understand they will only replace once. Anyway, if you have one good luck.\", 'English_Review': \"I loved this product. But they only seem to last a few months. The company was great replacing the first one (the frother falls out of the handle and can't be fixed). The after 4 months my second one did the same. I only use the frother for coffee once a day. It's not overuse or abuse. I'm very disappointed and will look for another. As I understand they will only replace once. Anyway, if you have one good luck.\", 'language': 'The following review is in English.', 'summary': 'The reviewer loved the product initially, but was disappointed that it only lasted a few months and had to be replaced twice due to the frother falling out of the handle, leading them to look for an alternative.', 'sentiment': 'Negative', 'review_score': 'Based on the review, I would assign a score of 2.5 to this review. The reviewer initially loved the product, which indicates a positive sentiment. However, the fact that the product only lasts a few months and the frother falls out of the handle multiple times is a negative aspect. The reviewer expresses disappointment and mentions looking for another product. Overall, the review has both positive and negative elements, resulting in a neutral score of 2.5.'}\n"
     ]
    }
   ],
   "source": [
    "for i in range(0,5): print(responses[i] , end =\"\\n\")"
   ]
  },
  {
   "cell_type": "code",
   "execution_count": 71,
   "metadata": {},
   "outputs": [
    {
     "data": {
      "text/html": [
       "<div>\n",
       "<style scoped>\n",
       "    .dataframe tbody tr th:only-of-type {\n",
       "        vertical-align: middle;\n",
       "    }\n",
       "\n",
       "    .dataframe tbody tr th {\n",
       "        vertical-align: top;\n",
       "    }\n",
       "\n",
       "    .dataframe thead th {\n",
       "        text-align: right;\n",
       "    }\n",
       "</style>\n",
       "<table border=\"1\" class=\"dataframe\">\n",
       "  <thead>\n",
       "    <tr style=\"text-align: right;\">\n",
       "      <th></th>\n",
       "      <th>Product</th>\n",
       "      <th>Review</th>\n",
       "      <th>English_Review</th>\n",
       "      <th>language</th>\n",
       "      <th>summary</th>\n",
       "      <th>sentiment</th>\n",
       "      <th>review_score</th>\n",
       "    </tr>\n",
       "  </thead>\n",
       "  <tbody>\n",
       "    <tr>\n",
       "      <th>0</th>\n",
       "      <td>Queen Size Sheet Set</td>\n",
       "      <td>I ordered a king size set. My only criticism w...</td>\n",
       "      <td>I ordered a king size set. My only criticism w...</td>\n",
       "      <td>The following review is in English.</td>\n",
       "      <td>The reviewer ordered a king size set of sheets...</td>\n",
       "      <td>Positive</td>\n",
       "      <td>Based on the review, I would give a score of 4.</td>\n",
       "    </tr>\n",
       "    <tr>\n",
       "      <th>1</th>\n",
       "      <td>Waterproof Phone Pouch</td>\n",
       "      <td>I loved the waterproof sac, although the openi...</td>\n",
       "      <td>I loved the waterproof sac, although the openi...</td>\n",
       "      <td>The language of the review appears to be English.</td>\n",
       "      <td>The reviewer enjoyed the waterproof sac but ha...</td>\n",
       "      <td>Negative</td>\n",
       "      <td>Based on the review, I would assign a score of...</td>\n",
       "    </tr>\n",
       "    <tr>\n",
       "      <th>2</th>\n",
       "      <td>Luxury Air Mattress</td>\n",
       "      <td>This mattress had a small hole in the top of i...</td>\n",
       "      <td>This mattress had a small hole in the top of i...</td>\n",
       "      <td>The following review is in English.</td>\n",
       "      <td>The reviewer had a terrible experience with a ...</td>\n",
       "      <td>Negative</td>\n",
       "      <td>Based on the review, the score would be 0.</td>\n",
       "    </tr>\n",
       "    <tr>\n",
       "      <th>3</th>\n",
       "      <td>Pillows Insert</td>\n",
       "      <td>This is the best throw pillow fillers on Amazo...</td>\n",
       "      <td>This is the best throw pillow fillers on Amazo...</td>\n",
       "      <td>The following review is in English.</td>\n",
       "      <td>The reviewer highly recommends these throw pil...</td>\n",
       "      <td>Positive</td>\n",
       "      <td>4.5</td>\n",
       "    </tr>\n",
       "    <tr>\n",
       "      <th>4</th>\n",
       "      <td>Milk Frother Handheld\\n</td>\n",
       "      <td>I loved this product. But they only seem to l...</td>\n",
       "      <td>I loved this product. But they only seem to la...</td>\n",
       "      <td>The following review is in English.</td>\n",
       "      <td>The reviewer loved the product initially, but ...</td>\n",
       "      <td>Negative</td>\n",
       "      <td>Based on the review, I would assign a score of...</td>\n",
       "    </tr>\n",
       "  </tbody>\n",
       "</table>\n",
       "</div>"
      ],
      "text/plain": [
       "                   Product                                             Review  \\\n",
       "0     Queen Size Sheet Set  I ordered a king size set. My only criticism w...   \n",
       "1   Waterproof Phone Pouch  I loved the waterproof sac, although the openi...   \n",
       "2      Luxury Air Mattress  This mattress had a small hole in the top of i...   \n",
       "3           Pillows Insert  This is the best throw pillow fillers on Amazo...   \n",
       "4  Milk Frother Handheld\\n   I loved this product. But they only seem to l...   \n",
       "\n",
       "                                      English_Review  \\\n",
       "0  I ordered a king size set. My only criticism w...   \n",
       "1  I loved the waterproof sac, although the openi...   \n",
       "2  This mattress had a small hole in the top of i...   \n",
       "3  This is the best throw pillow fillers on Amazo...   \n",
       "4  I loved this product. But they only seem to la...   \n",
       "\n",
       "                                            language  \\\n",
       "0                The following review is in English.   \n",
       "1  The language of the review appears to be English.   \n",
       "2                The following review is in English.   \n",
       "3                The following review is in English.   \n",
       "4                The following review is in English.   \n",
       "\n",
       "                                             summary sentiment  \\\n",
       "0  The reviewer ordered a king size set of sheets...  Positive   \n",
       "1  The reviewer enjoyed the waterproof sac but ha...  Negative   \n",
       "2  The reviewer had a terrible experience with a ...  Negative   \n",
       "3  The reviewer highly recommends these throw pil...  Positive   \n",
       "4  The reviewer loved the product initially, but ...  Negative   \n",
       "\n",
       "                                        review_score  \n",
       "0    Based on the review, I would give a score of 4.  \n",
       "1  Based on the review, I would assign a score of...  \n",
       "2         Based on the review, the score would be 0.  \n",
       "3                                                4.5  \n",
       "4  Based on the review, I would assign a score of...  "
      ]
     },
     "execution_count": 71,
     "metadata": {},
     "output_type": "execute_result"
    }
   ],
   "source": [
    "df.merge(df3)"
   ]
  }
 ],
 "metadata": {
  "kernelspec": {
   "display_name": "Python 3",
   "language": "python",
   "name": "python3"
  },
  "language_info": {
   "codemirror_mode": {
    "name": "ipython",
    "version": 3
   },
   "file_extension": ".py",
   "mimetype": "text/x-python",
   "name": "python",
   "nbconvert_exporter": "python",
   "pygments_lexer": "ipython3",
   "version": "3.9.6"
  },
  "orig_nbformat": 4
 },
 "nbformat": 4,
 "nbformat_minor": 2
}

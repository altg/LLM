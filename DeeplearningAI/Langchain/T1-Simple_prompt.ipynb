{
 "cells": [
  {
   "cell_type": "code",
   "execution_count": 15,
   "metadata": {},
   "outputs": [],
   "source": [
    "import os\n",
    "import openai\n",
    "\n",
    "\n",
    "\n",
    "from dotenv import load_dotenv, find_dotenv\n",
    "_ = load_dotenv(find_dotenv()) # read local .env file\n",
    "openai.api_key = os.environ['OPENAI_API_KEY']"
   ]
  },
  {
   "cell_type": "code",
   "execution_count": 3,
   "metadata": {},
   "outputs": [
    {
     "name": "stderr",
     "output_type": "stream",
     "text": [
      "/Users/altaf/Library/Python/3.9/lib/python/site-packages/urllib3/__init__.py:34: NotOpenSSLWarning: urllib3 v2.0 only supports OpenSSL 1.1.1+, currently the 'ssl' module is compiled with 'LibreSSL 2.8.3'. See: https://github.com/urllib3/urllib3/issues/3020\n",
      "  warnings.warn(\n"
     ]
    }
   ],
   "source": [
    "from langchain.chat_models import ChatOpenAI\n",
    "from langchain.prompts import ChatPromptTemplate\n",
    "\n",
    "chat = ChatOpenAI(temperature=0.0)"
   ]
  },
  {
   "cell_type": "code",
   "execution_count": 39,
   "metadata": {},
   "outputs": [],
   "source": [
    "input_template = \"\"\" \n",
    "You are an automated translation system, \\\n",
    "which translates the text delimited by triple backticks \\\n",
    "to {language} and expand it as a {style} \\\n",
    "Format the output as JSON with the following keys:\n",
    "input_text\n",
    "input_language\n",
    "output_text\n",
    "output_language\n",
    "output_style\n",
    "text: ```{text}```\n",
    "\n",
    "{format_instructions}\n",
    "\"\"\""
   ]
  },
  {
   "cell_type": "code",
   "execution_count": 25,
   "metadata": {},
   "outputs": [
    {
     "name": "stdout",
     "output_type": "stream",
     "text": [
      "input_variables=['language', 'text', 'style'] output_parser=None partial_variables={} messages=[HumanMessagePromptTemplate(prompt=PromptTemplate(input_variables=['language', 'style', 'text'], output_parser=None, partial_variables={}, template=' \\nYou are an automated translation system, which translates the text delimited by triple backticks to {language} and expand it as a {style} Format the output as JSON with the following keys:\\ninput_text\\ninput_language\\noutput_text\\noutput_language\\noutput_style\\ntext: ```{text}```\\n', template_format='f-string', validate_template=True), additional_kwargs={})]\n"
     ]
    },
    {
     "data": {
      "text/plain": [
       "PromptTemplate(input_variables=['language', 'style', 'text'], output_parser=None, partial_variables={}, template=' \\nYou are an automated translation system, which translates the text delimited by triple backticks to {language} and expand it as a {style} Format the output as JSON with the following keys:\\ninput_text\\ninput_language\\noutput_text\\noutput_language\\noutput_style\\ntext: ```{text}```\\n', template_format='f-string', validate_template=True)"
      ]
     },
     "execution_count": 25,
     "metadata": {},
     "output_type": "execute_result"
    }
   ],
   "source": [
    "prompt_template = ChatPromptTemplate.from_template(input_template)\n",
    "print(prompt_template)\n",
    "prompt_template.messages[0].prompt"
   ]
  },
  {
   "cell_type": "code",
   "execution_count": 26,
   "metadata": {},
   "outputs": [],
   "source": [
    "input_msg = \"\"\" \n",
    "Today is a beautiful day\"\"\"\n",
    "\n",
    "output_language = \"\"\" \n",
    "English\"\"\"\n",
    "\n",
    "style_used = \"\"\" \n",
    "limrick\"\"\""
   ]
  },
  {
   "cell_type": "code",
   "execution_count": 27,
   "metadata": {},
   "outputs": [
    {
     "name": "stdout",
     "output_type": "stream",
     "text": [
      "content=' \\nYou are an automated translation system, which translates the text delimited by triple backticks to  \\nEnglish and expand it as a  \\nlimrick Format the output as JSON with the following keys:\\ninput_text\\ninput_language\\noutput_text\\noutput_language\\noutput_style\\ntext: ``` \\nToday is a beautiful day```\\n' additional_kwargs={} example=False\n"
     ]
    }
   ],
   "source": [
    "chat_input = prompt_template.format_messages(\n",
    "                    language=output_language,\n",
    "                    text=input_msg,\n",
    "                    style = style_used)\n",
    "\n",
    "print(chat_input[0])"
   ]
  },
  {
   "cell_type": "code",
   "execution_count": 28,
   "metadata": {},
   "outputs": [],
   "source": [
    "response = chat(chat_input)"
   ]
  },
  {
   "cell_type": "code",
   "execution_count": 29,
   "metadata": {},
   "outputs": [
    {
     "name": "stdout",
     "output_type": "stream",
     "text": [
      "content='{\\n  \"input_text\": \"Today is a beautiful day\",\\n  \"input_language\": \"unknown\",\\n  \"output_text\": \"There once was a day so fine,\\\\nWith sunshine and blue skies divine,\\\\nIt filled me with glee,\\\\nAnd made me feel free,\\\\nOh how I wish it could be mine!\",\\n  \"output_language\": \"en\",\\n  \"output_style\": \"limerick\"\\n}' additional_kwargs={} example=False\n"
     ]
    }
   ],
   "source": [
    "print(response)"
   ]
  },
  {
   "cell_type": "code",
   "execution_count": 32,
   "metadata": {},
   "outputs": [
    {
     "name": "stdout",
     "output_type": "stream",
     "text": [
      "{\n",
      "  \"input_text\": \"Today is a beautiful day\",\n",
      "  \"input_language\": \"unknown\",\n",
      "  \"output_text\": \"There once was a day so fine,\\nWith sunshine and blue skies divine,\\nIt filled me with glee,\\nAnd made me feel free,\\nOh how I wish it could be mine!\",\n",
      "  \"output_language\": \"en\",\n",
      "  \"output_style\": \"limerick\"\n",
      "}\n",
      "<class 'str'>\n"
     ]
    }
   ],
   "source": [
    "print(response.content)\n",
    "print(type(response.content))"
   ]
  },
  {
   "cell_type": "code",
   "execution_count": 45,
   "metadata": {},
   "outputs": [],
   "source": [
    "from langchain.output_parsers import ResponseSchema\n",
    "from langchain.output_parsers import StructuredOutputParser\n",
    "\n",
    "\n",
    "input_text_schema = ResponseSchema(name = \"input_text\",\n",
    "                                   description= \"the text to translate\")\n",
    "\n",
    "input_language_schema = ResponseSchema(name = \"input_language\",\n",
    "                                       description= \"the langauge of the input text\")\n",
    "\n",
    "output_text_schema = ResponseSchema(name= \"output_text\",\n",
    "                                    description=\"the output text\")\n",
    "\n",
    "output_language_schema = ResponseSchema(name= \"output_language\",\n",
    "                                        description=\"the language of the output\")\n",
    "\n",
    "output_style_schema = ResponseSchema(name = \"output_style\",\n",
    "                                     description= \"the style used for the output\")\n",
    "\n",
    "response_schemas = [input_text_schema,\n",
    "                    input_language_schema,\n",
    "                    output_text_schema,\n",
    "                    output_language_schema,\n",
    "                    output_style_schema]"
   ]
  },
  {
   "cell_type": "code",
   "execution_count": 46,
   "metadata": {},
   "outputs": [],
   "source": [
    "output_parser = StructuredOutputParser.from_response_schemas(response_schemas)"
   ]
  },
  {
   "cell_type": "code",
   "execution_count": 47,
   "metadata": {},
   "outputs": [
    {
     "name": "stdout",
     "output_type": "stream",
     "text": [
      "The output should be a markdown code snippet formatted in the following schema, including the leading and trailing \"```json\" and \"```\":\n",
      "\n",
      "```json\n",
      "{\n",
      "\t\"input_text\": string  // the text to translate\n",
      "\t\"input_language\": string  // the langauge of the input text\n",
      "\t\"output_text\": string  // the output text\n",
      "\t\"output_language\": string  // the language of the output\n",
      "\t\"output_style\": string  // the style used for the output\n",
      "}\n",
      "```\n"
     ]
    }
   ],
   "source": [
    "format_instructions = output_parser.get_format_instructions()\n",
    "\n",
    "print(format_instructions)"
   ]
  },
  {
   "cell_type": "code",
   "execution_count": 48,
   "metadata": {},
   "outputs": [
    {
     "name": "stdout",
     "output_type": "stream",
     "text": [
      " \n",
      "You are an automated translation system, which translates the text delimited by triple backticks to  \n",
      "English and expand it as a  \n",
      "limrick Format the output as JSON with the following keys:\n",
      "input_text\n",
      "input_language\n",
      "output_text\n",
      "output_language\n",
      "output_style\n",
      "text: ``` \n",
      "Today is a beautiful day```\n",
      "\n",
      "The output should be a markdown code snippet formatted in the following schema, including the leading and trailing \"```json\" and \"```\":\n",
      "\n",
      "```json\n",
      "{\n",
      "\t\"input_text\": string  // the text to translate\n",
      "\t\"input_language\": string  // the langauge of the input text\n",
      "\t\"output_text\": string  // the output text\n",
      "\t\"output_language\": string  // the language of the output\n",
      "\t\"output_style\": string  // the style used for the output\n",
      "}\n",
      "```\n",
      "\n"
     ]
    }
   ],
   "source": [
    "\n",
    "prompt_template = ChatPromptTemplate.from_template(input_template)\n",
    "\n",
    "chat_input = prompt_template.format_messages(\n",
    "                    language=output_language,\n",
    "                    text=input_msg,\n",
    "                    style = style_used,\n",
    "                    format_instructions=format_instructions)\n",
    "\n",
    "print(chat_input[0].content)\n"
   ]
  },
  {
   "cell_type": "code",
   "execution_count": 49,
   "metadata": {},
   "outputs": [
    {
     "name": "stdout",
     "output_type": "stream",
     "text": [
      "```json\n",
      "{\n",
      "\t\"input_text\": \"Today is a beautiful day\",\n",
      "\t\"input_language\": \"English\",\n",
      "\t\"output_text\": \"There once was a day so fine,\\nWith sunshine and warmth so divine,\\nIt's beauty did shine,\\nAnd all felt just fine,\\nOh what a day, so sublime!\",\n",
      "\t\"output_language\": \"English\",\n",
      "\t\"output_style\": \"limerick\"\n",
      "}\n",
      "```\n"
     ]
    }
   ],
   "source": [
    "response = chat(chat_input)\n",
    "\n",
    "print(response.content)"
   ]
  },
  {
   "cell_type": "code",
   "execution_count": 50,
   "metadata": {},
   "outputs": [
    {
     "data": {
      "text/plain": [
       "{'input_text': 'Today is a beautiful day',\n",
       " 'input_language': 'English',\n",
       " 'output_text': \"There once was a day so fine,\\nWith sunshine and warmth so divine,\\nIt's beauty did shine,\\nAnd all felt just fine,\\nOh what a day, so sublime!\",\n",
       " 'output_language': 'English',\n",
       " 'output_style': 'limerick'}"
      ]
     },
     "execution_count": 50,
     "metadata": {},
     "output_type": "execute_result"
    }
   ],
   "source": [
    "output_dict = output_parser.parse(response.content)\n",
    "\n",
    "output_dict"
   ]
  },
  {
   "cell_type": "code",
   "execution_count": null,
   "metadata": {},
   "outputs": [],
   "source": []
  }
 ],
 "metadata": {
  "kernelspec": {
   "display_name": "Python 3",
   "language": "python",
   "name": "python3"
  },
  "language_info": {
   "codemirror_mode": {
    "name": "ipython",
    "version": 3
   },
   "file_extension": ".py",
   "mimetype": "text/x-python",
   "name": "python",
   "nbconvert_exporter": "python",
   "pygments_lexer": "ipython3",
   "version": "3.9.6"
  },
  "orig_nbformat": 4
 },
 "nbformat": 4,
 "nbformat_minor": 2
}

{
 "cells": [
  {
   "cell_type": "code",
   "execution_count": 11,
   "metadata": {},
   "outputs": [
    {
     "name": "stderr",
     "output_type": "stream",
     "text": [
      "No model was supplied, defaulted to distilbert-base-uncased-finetuned-sst-2-english and revision af0f99b (https://huggingface.co/distilbert-base-uncased-finetuned-sst-2-english).\n",
      "Using a pipeline without specifying a model name and revision in production is not recommended.\n"
     ]
    },
    {
     "data": {
      "text/plain": [
       "[{'label': 'POSITIVE', 'score': 0.9998537302017212}]"
      ]
     },
     "execution_count": 11,
     "metadata": {},
     "output_type": "execute_result"
    }
   ],
   "source": [
    "from transformers import pipeline\n",
    "sentiment_pipeline = pipeline(\"sentiment-analysis\")\n",
    "data = [\"This is a great place to be in\"]\n",
    "sentiment_pipeline(data)\n"
   ]
  },
  {
   "cell_type": "code",
   "execution_count": 7,
   "metadata": {},
   "outputs": [
    {
     "name": "stderr",
     "output_type": "stream",
     "text": [
      "Downloading builder script: 100%|██████████| 4.31k/4.31k [00:00<00:00, 5.69MB/s]\n",
      "Downloading metadata: 100%|██████████| 2.17k/2.17k [00:00<00:00, 3.65MB/s]\n",
      "Downloading readme: 100%|██████████| 7.59k/7.59k [00:00<00:00, 9.50MB/s]\n"
     ]
    },
    {
     "name": "stdout",
     "output_type": "stream",
     "text": [
      "Downloading and preparing dataset imdb/plain_text to /Users/altaf/.cache/huggingface/datasets/imdb/plain_text/1.0.0/d613c88cf8fa3bab83b4ded3713f1f74830d1100e171db75bbddb80b3345c9c0...\n"
     ]
    },
    {
     "name": "stderr",
     "output_type": "stream",
     "text": [
      "Downloading data: 100%|██████████| 84.1M/84.1M [02:57<00:00, 473kB/s]   \n",
      "                                                                                             "
     ]
    },
    {
     "name": "stdout",
     "output_type": "stream",
     "text": [
      "Dataset imdb downloaded and prepared to /Users/altaf/.cache/huggingface/datasets/imdb/plain_text/1.0.0/d613c88cf8fa3bab83b4ded3713f1f74830d1100e171db75bbddb80b3345c9c0. Subsequent calls will reuse this data.\n"
     ]
    },
    {
     "name": "stderr",
     "output_type": "stream",
     "text": [
      "\r"
     ]
    }
   ],
   "source": [
    "from transformers.pipelines.pt_utils import KeyDataset\n",
    "import datasets\n",
    "\n",
    "dataset = datasets.load_dataset(\"imdb\", name=\"plain_text\", split=\"unsupervised\")\n"
   ]
  },
  {
   "cell_type": "code",
   "execution_count": null,
   "metadata": {},
   "outputs": [],
   "source": [
    "pipe = pipeline(\"sentiment-analysis\")\n",
    "for out in pipe(KeyDataset(dataset, \"text\"), batch_size=8, truncation=\"only_first\"):\n",
    "\n",
    "    print(out)"
   ]
  },
  {
   "cell_type": "code",
   "execution_count": 27,
   "metadata": {},
   "outputs": [
    {
     "data": {
      "text/plain": [
       "50000"
      ]
     },
     "execution_count": 27,
     "metadata": {},
     "output_type": "execute_result"
    }
   ],
   "source": [
    "dataset.num_rows"
   ]
  },
  {
   "cell_type": "code",
   "execution_count": 42,
   "metadata": {},
   "outputs": [
    {
     "data": {
      "text/plain": [
       "datasets.arrow_dataset.Dataset"
      ]
     },
     "execution_count": 42,
     "metadata": {},
     "output_type": "execute_result"
    }
   ],
   "source": [
    "import random\n",
    "R = range(dataset.num_rows)\n",
    "N = 10\n",
    "C = [random.choice(R) for _ in range(N)]\n",
    "dataset2 = dataset.from_dict( dataset[C] )\n",
    "\n",
    "type(dataset2)\n",
    "\n"
   ]
  },
  {
   "cell_type": "code",
   "execution_count": 46,
   "metadata": {},
   "outputs": [
    {
     "name": "stderr",
     "output_type": "stream",
     "text": [
      "No model was supplied, defaulted to distilbert-base-uncased-finetuned-sst-2-english and revision af0f99b (https://huggingface.co/distilbert-base-uncased-finetuned-sst-2-english).\n",
      "Using a pipeline without specifying a model name and revision in production is not recommended.\n"
     ]
    },
    {
     "name": "stdout",
     "output_type": "stream",
     "text": [
      "{'label': 'NEGATIVE', 'score': 0.9997254014015198}\n",
      "{'label': 'NEGATIVE', 'score': 0.999808132648468}\n",
      "{'label': 'NEGATIVE', 'score': 0.9973039627075195}\n",
      "{'label': 'NEGATIVE', 'score': 0.6802684664726257}\n",
      "{'label': 'NEGATIVE', 'score': 0.9984472393989563}\n",
      "{'label': 'POSITIVE', 'score': 0.9992249011993408}\n",
      "{'label': 'POSITIVE', 'score': 0.998387336730957}\n",
      "{'label': 'NEGATIVE', 'score': 0.9994131326675415}\n",
      "{'label': 'POSITIVE', 'score': 0.9690597057342529}\n",
      "{'label': 'POSITIVE', 'score': 0.9947825074195862}\n"
     ]
    }
   ],
   "source": [
    "pipe = pipeline(\"text-classification\")\n",
    "\n",
    "t = []\n",
    "for out in pipe(KeyDataset(dataset2, \"text\"), batch_size=8, truncation=\"only_first\"):\n",
    "    t.append(out)\n",
    "    print(out)"
   ]
  },
  {
   "cell_type": "code",
   "execution_count": 66,
   "metadata": {},
   "outputs": [],
   "source": [
    "t2 = dataset2.add_column(name = 'senti' , column=t )\n",
    "\n",
    "\n",
    "\n",
    "#for i in t:\n",
    " #   print(i['label'])"
   ]
  },
  {
   "cell_type": "code",
   "execution_count": 72,
   "metadata": {},
   "outputs": [
    {
     "data": {
      "text/plain": [
       "{'text': \"I am rating this film based on my memory of it through the eyes of a child who enjoyed it and who loved little Volkswagen Beetles, possibly in part because of this film. As I am rating it from a child's point of view and have not seen it since then, keep in mind that as an adult, the enjoyment may have run out. I thought that it was a fun film, and it seems to be well-received by a wider audience too, based on other reviews and remakes/sequels. I also have seen at least four cars over here in England that look like Herbie and have various 'HERBIE' personalised licence plates and markings. It's a fun film (for children, anyway), and the old VW is pretty cool.\",\n",
       " 'label': -1,\n",
       " 'senti': {'label': 'POSITIVE', 'score': 0.9992249011993408}}"
      ]
     },
     "execution_count": 72,
     "metadata": {},
     "output_type": "execute_result"
    }
   ],
   "source": [
    "t2[5]"
   ]
  }
 ],
 "metadata": {
  "kernelspec": {
   "display_name": "Python 3",
   "language": "python",
   "name": "python3"
  },
  "language_info": {
   "codemirror_mode": {
    "name": "ipython",
    "version": 3
   },
   "file_extension": ".py",
   "mimetype": "text/x-python",
   "name": "python",
   "nbconvert_exporter": "python",
   "pygments_lexer": "ipython3",
   "version": "3.9.6"
  },
  "orig_nbformat": 4
 },
 "nbformat": 4,
 "nbformat_minor": 2
}
